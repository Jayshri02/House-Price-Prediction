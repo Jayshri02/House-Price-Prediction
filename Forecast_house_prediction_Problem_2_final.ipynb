{
  "nbformat": 4,
  "nbformat_minor": 0,
  "metadata": {
    "kernelspec": {
      "display_name": "Python 3",
      "language": "python",
      "name": "python3"
    },
    "language_info": {
      "codemirror_mode": {
        "name": "ipython",
        "version": 3
      },
      "file_extension": ".py",
      "mimetype": "text/x-python",
      "name": "python",
      "nbconvert_exporter": "python",
      "pygments_lexer": "ipython3",
      "version": "3.8.5"
    },
    "colab": {
      "name": "Forecast_house_prediction_Problem_2_final.ipynb",
      "provenance": []
    }
  },
  "cells": [
    {
      "cell_type": "markdown",
      "metadata": {
        "id": "Jd1xpXVCVRH-"
      },
      "source": [
        "<b>Group Members:</b>\n",
        "\n",
        "1.Nihar Shah\n",
        "\n",
        "2.Jayshri Gupta\n",
        "\n",
        "3.Pravesh Raikwar\n",
        "\n",
        "4.Shardul Naik\n",
        "\n",
        "5.Keshav Baheti"
      ]
    },
    {
      "cell_type": "markdown",
      "metadata": {
        "id": "-JtHmLZDVRIL"
      },
      "source": [
        "<b>Problem Statement:</b> Prediction of house prices based on the median aggregate prices present in the dataset quarterly. "
      ]
    },
    {
      "cell_type": "markdown",
      "metadata": {
        "id": "TvBmwXIuVRIN"
      },
      "source": [
        "<b>Scope of Study:</b> We started with the raw data and then took the data for Median Aggregate for quarters. We, then, limited the scope of our study to the comparison of time-series models to prices of <i>\"houses with rooms 2.\"</i>"
      ]
    },
    {
      "cell_type": "code",
      "metadata": {
        "id": "dd_zNxNlVRIP"
      },
      "source": [
        "import pandas as pd\n",
        "import matplotlib.pyplot as plt\n",
        "import numpy as np\n",
        "import seaborn as sns\n",
        "from datetime import datetime\n",
        "from sklearn.metrics import mean_absolute_error, mean_squared_error\n",
        "from matplotlib.pylab import rcParams\n",
        "rcParams['figure.figsize'] = 15, 6"
      ],
      "execution_count": null,
      "outputs": []
    },
    {
      "cell_type": "code",
      "metadata": {
        "id": "QiGR6nScVRIQ"
      },
      "source": [
        "df=pd.read_csv('raw_sales.csv')\n",
        "df_median = pd.read_csv('ma_lga_12345.csv')\n",
        "#The data in ma_lga_12345.csv or df_median has been resampled to quartely intervals with a median aggregator"
      ],
      "execution_count": null,
      "outputs": []
    },
    {
      "cell_type": "markdown",
      "metadata": {
        "id": "KigtjKJGVThc"
      },
      "source": [
        "## The file ma_lga_12345.csv has the median aggregated data created from the raw data. \n",
        "\n",
        "#### Raw data consists of following columns:\n",
        "\n",
        "1. datesold: The date on which the property was sold.\n",
        "2. postcode: The area where property is located.\n",
        "3. price: The price of the property.\n",
        "4. propertyType: House/unit\n",
        "5. bedrooms: No. of bedrooms in the property.\n",
        "\n",
        "#### The raw data has been processed to convert raw data into time series acceptable data by the following steps:\n",
        "\n",
        "1. The data is divided into two parts according to propertyType.\n",
        "2. Each part is then segregated according to the number of bedrooms.\n",
        "3. Median is then taken for each category quarterly.\n",
        "4. Date has been assigned to each row as 'saledate' of the last day belonging to the respective quarter.\n",
        "\n",
        "#### Columns in ma_lga_12345.csv are:\n",
        "1. saledate: The last day of the quarter\n",
        "2. MA: The median aggregated price for the quarter\n",
        "3. type : House/unit\n",
        "4. bedrooms: 2,3,4,5"
      ]
    },
    {
      "cell_type": "code",
      "metadata": {
        "id": "79QCjCfFVRIR",
        "outputId": "e2dea61b-e925-4336-92c7-ab326f910fb9"
      },
      "source": [
        "df.head()"
      ],
      "execution_count": null,
      "outputs": [
        {
          "output_type": "execute_result",
          "data": {
            "text/html": [
              "<div>\n",
              "<style scoped>\n",
              "    .dataframe tbody tr th:only-of-type {\n",
              "        vertical-align: middle;\n",
              "    }\n",
              "\n",
              "    .dataframe tbody tr th {\n",
              "        vertical-align: top;\n",
              "    }\n",
              "\n",
              "    .dataframe thead th {\n",
              "        text-align: right;\n",
              "    }\n",
              "</style>\n",
              "<table border=\"1\" class=\"dataframe\">\n",
              "  <thead>\n",
              "    <tr style=\"text-align: right;\">\n",
              "      <th></th>\n",
              "      <th>datesold</th>\n",
              "      <th>postcode</th>\n",
              "      <th>price</th>\n",
              "      <th>propertyType</th>\n",
              "      <th>bedrooms</th>\n",
              "    </tr>\n",
              "  </thead>\n",
              "  <tbody>\n",
              "    <tr>\n",
              "      <th>0</th>\n",
              "      <td>2007-02-07 00:00:00</td>\n",
              "      <td>2607</td>\n",
              "      <td>525000</td>\n",
              "      <td>house</td>\n",
              "      <td>4</td>\n",
              "    </tr>\n",
              "    <tr>\n",
              "      <th>1</th>\n",
              "      <td>2007-02-27 00:00:00</td>\n",
              "      <td>2906</td>\n",
              "      <td>290000</td>\n",
              "      <td>house</td>\n",
              "      <td>3</td>\n",
              "    </tr>\n",
              "    <tr>\n",
              "      <th>2</th>\n",
              "      <td>2007-03-07 00:00:00</td>\n",
              "      <td>2905</td>\n",
              "      <td>328000</td>\n",
              "      <td>house</td>\n",
              "      <td>3</td>\n",
              "    </tr>\n",
              "    <tr>\n",
              "      <th>3</th>\n",
              "      <td>2007-03-09 00:00:00</td>\n",
              "      <td>2905</td>\n",
              "      <td>380000</td>\n",
              "      <td>house</td>\n",
              "      <td>4</td>\n",
              "    </tr>\n",
              "    <tr>\n",
              "      <th>4</th>\n",
              "      <td>2007-03-21 00:00:00</td>\n",
              "      <td>2906</td>\n",
              "      <td>310000</td>\n",
              "      <td>house</td>\n",
              "      <td>3</td>\n",
              "    </tr>\n",
              "  </tbody>\n",
              "</table>\n",
              "</div>"
            ],
            "text/plain": [
              "              datesold  postcode   price propertyType  bedrooms\n",
              "0  2007-02-07 00:00:00      2607  525000        house         4\n",
              "1  2007-02-27 00:00:00      2906  290000        house         3\n",
              "2  2007-03-07 00:00:00      2905  328000        house         3\n",
              "3  2007-03-09 00:00:00      2905  380000        house         4\n",
              "4  2007-03-21 00:00:00      2906  310000        house         3"
            ]
          },
          "metadata": {
            "tags": []
          },
          "execution_count": 3
        }
      ]
    },
    {
      "cell_type": "code",
      "metadata": {
        "id": "js9EohYRVRIU",
        "outputId": "3cf61df1-f390-4d2c-8cdf-bf17f656e1a0"
      },
      "source": [
        "plt.pie(df['propertyType'].value_counts(), labels=['house','unit'], autopct='%1.1f%%', startangle = 150)\n",
        "plt.title('Property-wise sales percentage')\n",
        "plt.axis('equal')"
      ],
      "execution_count": null,
      "outputs": [
        {
          "output_type": "execute_result",
          "data": {
            "text/plain": [
              "(-1.1062735784564333,\n",
              " 1.1060571843127553,\n",
              " -1.1058990226661722,\n",
              " 1.1039583716883157)"
            ]
          },
          "metadata": {
            "tags": []
          },
          "execution_count": 5
        },
        {
          "output_type": "display_data",
          "data": {
            "image/png": "[encoded data removed]",
            "text/plain": [
              "<Figure size 1080x432 with 1 Axes>"
            ]
          },
          "metadata": {
            "tags": []
          }
        }
      ]
    },
    {
      "cell_type": "code",
      "metadata": {
        "id": "Mj7j6Fw_VRIV"
      },
      "source": [
        "#Limiting dataset to houses only\n",
        "df=df[df.propertyType=='house'] "
      ],
      "execution_count": null,
      "outputs": []
    },
    {
      "cell_type": "code",
      "metadata": {
        "id": "iJDSx8hVVRIY",
        "outputId": "f827e1c1-a96d-4b6e-b5cc-cc4a693ebf83"
      },
      "source": [
        "print(\"Time period from {} to {}\".format(df.datesold.min(), df.datesold.max()))"
      ],
      "execution_count": null,
      "outputs": [
        {
          "output_type": "stream",
          "text": [
            "Time period from 2007-02-07 00:00:00 to 2019-07-27 00:00:00\n"
          ],
          "name": "stdout"
        }
      ]
    },
    {
      "cell_type": "code",
      "metadata": {
        "id": "kVR8lQ6AVRIa"
      },
      "source": [
        "#Removing the timestamp\n",
        "df['datesold'] = pd.to_datetime(df['datesold'])"
      ],
      "execution_count": null,
      "outputs": []
    },
    {
      "cell_type": "code",
      "metadata": {
        "id": "ig83YvmDVRIe",
        "outputId": "987f3dea-0977-4418-c2d0-2e77e816cc57"
      },
      "source": [
        "plt.plot_date(df['datesold'],df['price'])"
      ],
      "execution_count": null,
      "outputs": [
        {
          "output_type": "execute_result",
          "data": {
            "text/plain": [
              "[<matplotlib.lines.Line2D at 0x153d3173fd0>]"
            ]
          },
          "metadata": {
            "tags": []
          },
          "execution_count": 16
        },
        {
          "output_type": "display_data",
          "data": {
            "image/png": "[encoded data removed]",
            "text/plain": [
              "<Figure size 1080x432 with 1 Axes>"
            ]
          },
          "metadata": {
            "tags": [],
            "needs_background": "light"
          }
        }
      ]
    },
    {
      "cell_type": "markdown",
      "metadata": {
        "id": "IvdyGrcjVRIf"
      },
      "source": [
        "We find some extreme prices around the year 2016(outliers, we take 5*std deviation to treat them, \n",
        "the prices also show a growing trend since the beginning of our dataset."
      ]
    },
    {
      "cell_type": "code",
      "metadata": {
        "id": "ONDxnFKDVRIg"
      },
      "source": [
        "# Cleaning the outliers\n",
        "df = df[np.abs(df.price - df.price.mean()) <= (5.0 * df.price.std())]"
      ],
      "execution_count": null,
      "outputs": []
    },
    {
      "cell_type": "code",
      "metadata": {
        "id": "BgG0-3YsVRIg"
      },
      "source": [
        "#Viewing and working on the dataset with medians aggregated"
      ],
      "execution_count": null,
      "outputs": []
    },
    {
      "cell_type": "code",
      "metadata": {
        "id": "Oa2I_5zeVRIh",
        "outputId": "7432b8bb-9d36-4cde-8431-a356866cc61d"
      },
      "source": [
        "df_median.head()"
      ],
      "execution_count": null,
      "outputs": [
        {
          "output_type": "execute_result",
          "data": {
            "text/html": [
              "<div>\n",
              "<style scoped>\n",
              "    .dataframe tbody tr th:only-of-type {\n",
              "        vertical-align: middle;\n",
              "    }\n",
              "\n",
              "    .dataframe tbody tr th {\n",
              "        vertical-align: top;\n",
              "    }\n",
              "\n",
              "    .dataframe thead th {\n",
              "        text-align: right;\n",
              "    }\n",
              "</style>\n",
              "<table border=\"1\" class=\"dataframe\">\n",
              "  <thead>\n",
              "    <tr style=\"text-align: right;\">\n",
              "      <th></th>\n",
              "      <th>saledate</th>\n",
              "      <th>MA</th>\n",
              "      <th>type</th>\n",
              "      <th>bedrooms</th>\n",
              "    </tr>\n",
              "  </thead>\n",
              "  <tbody>\n",
              "    <tr>\n",
              "      <th>0</th>\n",
              "      <td>30/09/2007</td>\n",
              "      <td>441854</td>\n",
              "      <td>house</td>\n",
              "      <td>2</td>\n",
              "    </tr>\n",
              "    <tr>\n",
              "      <th>1</th>\n",
              "      <td>31/12/2007</td>\n",
              "      <td>441854</td>\n",
              "      <td>house</td>\n",
              "      <td>2</td>\n",
              "    </tr>\n",
              "    <tr>\n",
              "      <th>2</th>\n",
              "      <td>31/03/2008</td>\n",
              "      <td>441854</td>\n",
              "      <td>house</td>\n",
              "      <td>2</td>\n",
              "    </tr>\n",
              "    <tr>\n",
              "      <th>3</th>\n",
              "      <td>30/06/2008</td>\n",
              "      <td>441854</td>\n",
              "      <td>house</td>\n",
              "      <td>2</td>\n",
              "    </tr>\n",
              "    <tr>\n",
              "      <th>4</th>\n",
              "      <td>30/09/2008</td>\n",
              "      <td>451583</td>\n",
              "      <td>house</td>\n",
              "      <td>2</td>\n",
              "    </tr>\n",
              "  </tbody>\n",
              "</table>\n",
              "</div>"
            ],
            "text/plain": [
              "     saledate      MA   type  bedrooms\n",
              "0  30/09/2007  441854  house         2\n",
              "1  31/12/2007  441854  house         2\n",
              "2  31/03/2008  441854  house         2\n",
              "3  30/06/2008  441854  house         2\n",
              "4  30/09/2008  451583  house         2"
            ]
          },
          "metadata": {
            "tags": []
          },
          "execution_count": 19
        }
      ]
    },
    {
      "cell_type": "code",
      "metadata": {
        "id": "pFmMFlxXVRIh",
        "outputId": "f6358bcb-c193-48ee-8e59-e2b9e8d43c4a"
      },
      "source": [
        "df_median=df_median[df_median.type=='house'] #We just need houses only\n",
        "df_median['saledate'] = pd.to_datetime(df_median['saledate']) #Getting the saledate column to datetime type\n",
        "df_median.tail()"
      ],
      "execution_count": null,
      "outputs": [
        {
          "output_type": "execute_result",
          "data": {
            "text/html": [
              "<div>\n",
              "<style scoped>\n",
              "    .dataframe tbody tr th:only-of-type {\n",
              "        vertical-align: middle;\n",
              "    }\n",
              "\n",
              "    .dataframe tbody tr th {\n",
              "        vertical-align: top;\n",
              "    }\n",
              "\n",
              "    .dataframe thead th {\n",
              "        text-align: right;\n",
              "    }\n",
              "</style>\n",
              "<table border=\"1\" class=\"dataframe\">\n",
              "  <thead>\n",
              "    <tr style=\"text-align: right;\">\n",
              "      <th></th>\n",
              "      <th>saledate</th>\n",
              "      <th>MA</th>\n",
              "      <th>type</th>\n",
              "      <th>bedrooms</th>\n",
              "    </tr>\n",
              "  </thead>\n",
              "  <tbody>\n",
              "    <tr>\n",
              "      <th>195</th>\n",
              "      <td>2018-09-30</td>\n",
              "      <td>1007114</td>\n",
              "      <td>house</td>\n",
              "      <td>5</td>\n",
              "    </tr>\n",
              "    <tr>\n",
              "      <th>196</th>\n",
              "      <td>2018-12-31</td>\n",
              "      <td>1002323</td>\n",
              "      <td>house</td>\n",
              "      <td>5</td>\n",
              "    </tr>\n",
              "    <tr>\n",
              "      <th>197</th>\n",
              "      <td>2019-03-31</td>\n",
              "      <td>998136</td>\n",
              "      <td>house</td>\n",
              "      <td>5</td>\n",
              "    </tr>\n",
              "    <tr>\n",
              "      <th>198</th>\n",
              "      <td>2019-06-30</td>\n",
              "      <td>995363</td>\n",
              "      <td>house</td>\n",
              "      <td>5</td>\n",
              "    </tr>\n",
              "    <tr>\n",
              "      <th>199</th>\n",
              "      <td>2019-09-30</td>\n",
              "      <td>970268</td>\n",
              "      <td>house</td>\n",
              "      <td>5</td>\n",
              "    </tr>\n",
              "  </tbody>\n",
              "</table>\n",
              "</div>"
            ],
            "text/plain": [
              "      saledate       MA   type  bedrooms\n",
              "195 2018-09-30  1007114  house         5\n",
              "196 2018-12-31  1002323  house         5\n",
              "197 2019-03-31   998136  house         5\n",
              "198 2019-06-30   995363  house         5\n",
              "199 2019-09-30   970268  house         5"
            ]
          },
          "metadata": {
            "tags": []
          },
          "execution_count": 20
        }
      ]
    },
    {
      "cell_type": "code",
      "metadata": {
        "id": "xTMWSxoOVRIi",
        "outputId": "fa6c1a6b-845b-4c4f-c5e3-8e2069757180"
      },
      "source": [
        "df_median.drop(columns=['type'],axis=1)"
      ],
      "execution_count": null,
      "outputs": [
        {
          "output_type": "execute_result",
          "data": {
            "text/html": [
              "<div>\n",
              "<style scoped>\n",
              "    .dataframe tbody tr th:only-of-type {\n",
              "        vertical-align: middle;\n",
              "    }\n",
              "\n",
              "    .dataframe tbody tr th {\n",
              "        vertical-align: top;\n",
              "    }\n",
              "\n",
              "    .dataframe thead th {\n",
              "        text-align: right;\n",
              "    }\n",
              "</style>\n",
              "<table border=\"1\" class=\"dataframe\">\n",
              "  <thead>\n",
              "    <tr style=\"text-align: right;\">\n",
              "      <th></th>\n",
              "      <th>saledate</th>\n",
              "      <th>MA</th>\n",
              "      <th>bedrooms</th>\n",
              "    </tr>\n",
              "  </thead>\n",
              "  <tbody>\n",
              "    <tr>\n",
              "      <th>0</th>\n",
              "      <td>2007-09-30</td>\n",
              "      <td>441854</td>\n",
              "      <td>2</td>\n",
              "    </tr>\n",
              "    <tr>\n",
              "      <th>1</th>\n",
              "      <td>2007-12-31</td>\n",
              "      <td>441854</td>\n",
              "      <td>2</td>\n",
              "    </tr>\n",
              "    <tr>\n",
              "      <th>2</th>\n",
              "      <td>2008-03-31</td>\n",
              "      <td>441854</td>\n",
              "      <td>2</td>\n",
              "    </tr>\n",
              "    <tr>\n",
              "      <th>3</th>\n",
              "      <td>2008-06-30</td>\n",
              "      <td>441854</td>\n",
              "      <td>2</td>\n",
              "    </tr>\n",
              "    <tr>\n",
              "      <th>4</th>\n",
              "      <td>2008-09-30</td>\n",
              "      <td>451583</td>\n",
              "      <td>2</td>\n",
              "    </tr>\n",
              "    <tr>\n",
              "      <th>...</th>\n",
              "      <td>...</td>\n",
              "      <td>...</td>\n",
              "      <td>...</td>\n",
              "    </tr>\n",
              "    <tr>\n",
              "      <th>195</th>\n",
              "      <td>2018-09-30</td>\n",
              "      <td>1007114</td>\n",
              "      <td>5</td>\n",
              "    </tr>\n",
              "    <tr>\n",
              "      <th>196</th>\n",
              "      <td>2018-12-31</td>\n",
              "      <td>1002323</td>\n",
              "      <td>5</td>\n",
              "    </tr>\n",
              "    <tr>\n",
              "      <th>197</th>\n",
              "      <td>2019-03-31</td>\n",
              "      <td>998136</td>\n",
              "      <td>5</td>\n",
              "    </tr>\n",
              "    <tr>\n",
              "      <th>198</th>\n",
              "      <td>2019-06-30</td>\n",
              "      <td>995363</td>\n",
              "      <td>5</td>\n",
              "    </tr>\n",
              "    <tr>\n",
              "      <th>199</th>\n",
              "      <td>2019-09-30</td>\n",
              "      <td>970268</td>\n",
              "      <td>5</td>\n",
              "    </tr>\n",
              "  </tbody>\n",
              "</table>\n",
              "<p>200 rows × 3 columns</p>\n",
              "</div>"
            ],
            "text/plain": [
              "      saledate       MA  bedrooms\n",
              "0   2007-09-30   441854         2\n",
              "1   2007-12-31   441854         2\n",
              "2   2008-03-31   441854         2\n",
              "3   2008-06-30   441854         2\n",
              "4   2008-09-30   451583         2\n",
              "..         ...      ...       ...\n",
              "195 2018-09-30  1007114         5\n",
              "196 2018-12-31  1002323         5\n",
              "197 2019-03-31   998136         5\n",
              "198 2019-06-30   995363         5\n",
              "199 2019-09-30   970268         5\n",
              "\n",
              "[200 rows x 3 columns]"
            ]
          },
          "metadata": {
            "tags": []
          },
          "execution_count": 21
        }
      ]
    },
    {
      "cell_type": "markdown",
      "metadata": {
        "id": "yCH2KbheVh7b"
      },
      "source": [
        "## Pivoting the data based on number of bedrooms to analyse the prices for each type seperately.\n"
      ]
    },
    {
      "cell_type": "code",
      "metadata": {
        "id": "J6rOzVh3VRIj",
        "outputId": "5d27a683-36b4-48bd-ab9d-cd529c3c758f"
      },
      "source": [
        "#Getting data ready for the model building\n",
        "df_median=df_median.pivot(index='saledate', columns='bedrooms', values='MA').interpolate(method='linear', limit_direction='both')\n",
        "df_median.head()"
      ],
      "execution_count": null,
      "outputs": [
        {
          "output_type": "execute_result",
          "data": {
            "text/html": [
              "<div>\n",
              "<style scoped>\n",
              "    .dataframe tbody tr th:only-of-type {\n",
              "        vertical-align: middle;\n",
              "    }\n",
              "\n",
              "    .dataframe tbody tr th {\n",
              "        vertical-align: top;\n",
              "    }\n",
              "\n",
              "    .dataframe thead th {\n",
              "        text-align: right;\n",
              "    }\n",
              "</style>\n",
              "<table border=\"1\" class=\"dataframe\">\n",
              "  <thead>\n",
              "    <tr style=\"text-align: right;\">\n",
              "      <th>bedrooms</th>\n",
              "      <th>2</th>\n",
              "      <th>3</th>\n",
              "      <th>4</th>\n",
              "      <th>5</th>\n",
              "    </tr>\n",
              "    <tr>\n",
              "      <th>saledate</th>\n",
              "      <th></th>\n",
              "      <th></th>\n",
              "      <th></th>\n",
              "      <th></th>\n",
              "    </tr>\n",
              "  </thead>\n",
              "  <tbody>\n",
              "    <tr>\n",
              "      <th>2007-03-31</th>\n",
              "      <td>441854.0</td>\n",
              "      <td>421291.0</td>\n",
              "      <td>548969.0</td>\n",
              "      <td>735904.0</td>\n",
              "    </tr>\n",
              "    <tr>\n",
              "      <th>2007-06-30</th>\n",
              "      <td>441854.0</td>\n",
              "      <td>421291.0</td>\n",
              "      <td>548969.0</td>\n",
              "      <td>735904.0</td>\n",
              "    </tr>\n",
              "    <tr>\n",
              "      <th>2007-09-30</th>\n",
              "      <td>441854.0</td>\n",
              "      <td>421291.0</td>\n",
              "      <td>548969.0</td>\n",
              "      <td>735904.0</td>\n",
              "    </tr>\n",
              "    <tr>\n",
              "      <th>2007-12-31</th>\n",
              "      <td>441854.0</td>\n",
              "      <td>421291.0</td>\n",
              "      <td>548969.0</td>\n",
              "      <td>735904.0</td>\n",
              "    </tr>\n",
              "    <tr>\n",
              "      <th>2008-03-31</th>\n",
              "      <td>441854.0</td>\n",
              "      <td>416031.0</td>\n",
              "      <td>552484.0</td>\n",
              "      <td>735904.0</td>\n",
              "    </tr>\n",
              "  </tbody>\n",
              "</table>\n",
              "</div>"
            ],
            "text/plain": [
              "bedrooms           2         3         4         5\n",
              "saledate                                          \n",
              "2007-03-31  441854.0  421291.0  548969.0  735904.0\n",
              "2007-06-30  441854.0  421291.0  548969.0  735904.0\n",
              "2007-09-30  441854.0  421291.0  548969.0  735904.0\n",
              "2007-12-31  441854.0  421291.0  548969.0  735904.0\n",
              "2008-03-31  441854.0  416031.0  552484.0  735904.0"
            ]
          },
          "metadata": {
            "tags": []
          },
          "execution_count": 22
        }
      ]
    },
    {
      "cell_type": "code",
      "metadata": {
        "id": "nBQdO4lCVRIk",
        "outputId": "e51870bf-3749-4dc4-ed7c-faddbc6f6e96"
      },
      "source": [
        "df_median.plot(figsize=(15,5))"
      ],
      "execution_count": null,
      "outputs": [
        {
          "output_type": "execute_result",
          "data": {
            "text/plain": [
              "<AxesSubplot:xlabel='saledate'>"
            ]
          },
          "metadata": {
            "tags": []
          },
          "execution_count": 23
        },
        {
          "output_type": "display_data",
          "data": {
            "image/png": "[encoded data removed]",
            "text/plain": [
              "<Figure size 1080x360 with 1 Axes>"
            ]
          },
          "metadata": {
            "tags": [],
            "needs_background": "light"
          }
        }
      ]
    },
    {
      "cell_type": "markdown",
      "metadata": {
        "id": "NpDWuZnkVRIk"
      },
      "source": [
        "There is a problem with the data between 2007 and 2009 as ideally the price of 2bhk houses should be lower than those of 3bhk; however we shall leave it at this point."
      ]
    },
    {
      "cell_type": "code",
      "metadata": {
        "id": "jtNnBzl4VRIl"
      },
      "source": [
        "#Converting the data into monthly samples\n",
        "df_monthly = df_median.resample('M').interpolate(method='linear', limit_direction='both').astype(int)"
      ],
      "execution_count": null,
      "outputs": []
    },
    {
      "cell_type": "code",
      "metadata": {
        "id": "1qB_SCKPVRIm",
        "outputId": "ea420fd8-8bd0-4d8a-ab2a-21053437a5db"
      },
      "source": [
        "df_monthly.head()"
      ],
      "execution_count": null,
      "outputs": [
        {
          "output_type": "execute_result",
          "data": {
            "text/html": [
              "<div>\n",
              "<style scoped>\n",
              "    .dataframe tbody tr th:only-of-type {\n",
              "        vertical-align: middle;\n",
              "    }\n",
              "\n",
              "    .dataframe tbody tr th {\n",
              "        vertical-align: top;\n",
              "    }\n",
              "\n",
              "    .dataframe thead th {\n",
              "        text-align: right;\n",
              "    }\n",
              "</style>\n",
              "<table border=\"1\" class=\"dataframe\">\n",
              "  <thead>\n",
              "    <tr style=\"text-align: right;\">\n",
              "      <th>bedrooms</th>\n",
              "      <th>2</th>\n",
              "      <th>3</th>\n",
              "      <th>4</th>\n",
              "      <th>5</th>\n",
              "    </tr>\n",
              "    <tr>\n",
              "      <th>saledate</th>\n",
              "      <th></th>\n",
              "      <th></th>\n",
              "      <th></th>\n",
              "      <th></th>\n",
              "    </tr>\n",
              "  </thead>\n",
              "  <tbody>\n",
              "    <tr>\n",
              "      <th>2007-03-31</th>\n",
              "      <td>441854</td>\n",
              "      <td>421291</td>\n",
              "      <td>548969</td>\n",
              "      <td>735904</td>\n",
              "    </tr>\n",
              "    <tr>\n",
              "      <th>2007-04-30</th>\n",
              "      <td>441854</td>\n",
              "      <td>421291</td>\n",
              "      <td>548969</td>\n",
              "      <td>735904</td>\n",
              "    </tr>\n",
              "    <tr>\n",
              "      <th>2007-05-31</th>\n",
              "      <td>441854</td>\n",
              "      <td>421291</td>\n",
              "      <td>548969</td>\n",
              "      <td>735904</td>\n",
              "    </tr>\n",
              "    <tr>\n",
              "      <th>2007-06-30</th>\n",
              "      <td>441854</td>\n",
              "      <td>421291</td>\n",
              "      <td>548969</td>\n",
              "      <td>735904</td>\n",
              "    </tr>\n",
              "    <tr>\n",
              "      <th>2007-07-31</th>\n",
              "      <td>441854</td>\n",
              "      <td>421291</td>\n",
              "      <td>548969</td>\n",
              "      <td>735904</td>\n",
              "    </tr>\n",
              "  </tbody>\n",
              "</table>\n",
              "</div>"
            ],
            "text/plain": [
              "bedrooms         2       3       4       5\n",
              "saledate                                  \n",
              "2007-03-31  441854  421291  548969  735904\n",
              "2007-04-30  441854  421291  548969  735904\n",
              "2007-05-31  441854  421291  548969  735904\n",
              "2007-06-30  441854  421291  548969  735904\n",
              "2007-07-31  441854  421291  548969  735904"
            ]
          },
          "metadata": {
            "tags": []
          },
          "execution_count": 25
        }
      ]
    },
    {
      "cell_type": "code",
      "metadata": {
        "id": "tOzDO6hoVRIm"
      },
      "source": [
        "#Split the data into train and test\n",
        "train = df_median[:int(0.9*(len(df_median)))]\n",
        "test = df_median[int(0.9*(len(df_median))):]\n",
        "\n",
        "#Fit the model\n",
        "from statsmodels.tsa.vector_ar.var_model import VAR\n",
        "\n",
        "model = VAR(endog=train, freq='Q-DEC')\n",
        "model_fit = model.fit()\n",
        "\n",
        "#Forecast based on train data\n",
        "forecast = model_fit.forecast(model_fit.endog, steps=len(test))"
      ],
      "execution_count": null,
      "outputs": []
    },
    {
      "cell_type": "code",
      "metadata": {
        "scrolled": true,
        "id": "cdfVdGK1VRIn",
        "outputId": "e615f777-6853-4a96-80d5-b6c6cf70af51"
      },
      "source": [
        "train"
      ],
      "execution_count": null,
      "outputs": [
        {
          "output_type": "execute_result",
          "data": {
            "text/html": [
              "<div>\n",
              "<style scoped>\n",
              "    .dataframe tbody tr th:only-of-type {\n",
              "        vertical-align: middle;\n",
              "    }\n",
              "\n",
              "    .dataframe tbody tr th {\n",
              "        vertical-align: top;\n",
              "    }\n",
              "\n",
              "    .dataframe thead th {\n",
              "        text-align: right;\n",
              "    }\n",
              "</style>\n",
              "<table border=\"1\" class=\"dataframe\">\n",
              "  <thead>\n",
              "    <tr style=\"text-align: right;\">\n",
              "      <th>bedrooms</th>\n",
              "      <th>2</th>\n",
              "      <th>3</th>\n",
              "      <th>4</th>\n",
              "      <th>5</th>\n",
              "    </tr>\n",
              "    <tr>\n",
              "      <th>saledate</th>\n",
              "      <th></th>\n",
              "      <th></th>\n",
              "      <th></th>\n",
              "      <th></th>\n",
              "    </tr>\n",
              "  </thead>\n",
              "  <tbody>\n",
              "    <tr>\n",
              "      <th>2007-03-31</th>\n",
              "      <td>441854.0</td>\n",
              "      <td>421291.0</td>\n",
              "      <td>548969.0</td>\n",
              "      <td>735904.0</td>\n",
              "    </tr>\n",
              "    <tr>\n",
              "      <th>2007-06-30</th>\n",
              "      <td>441854.0</td>\n",
              "      <td>421291.0</td>\n",
              "      <td>548969.0</td>\n",
              "      <td>735904.0</td>\n",
              "    </tr>\n",
              "    <tr>\n",
              "      <th>2007-09-30</th>\n",
              "      <td>441854.0</td>\n",
              "      <td>421291.0</td>\n",
              "      <td>548969.0</td>\n",
              "      <td>735904.0</td>\n",
              "    </tr>\n",
              "    <tr>\n",
              "      <th>2007-12-31</th>\n",
              "      <td>441854.0</td>\n",
              "      <td>421291.0</td>\n",
              "      <td>548969.0</td>\n",
              "      <td>735904.0</td>\n",
              "    </tr>\n",
              "    <tr>\n",
              "      <th>2008-03-31</th>\n",
              "      <td>441854.0</td>\n",
              "      <td>416031.0</td>\n",
              "      <td>552484.0</td>\n",
              "      <td>735904.0</td>\n",
              "    </tr>\n",
              "    <tr>\n",
              "      <th>2008-06-30</th>\n",
              "      <td>441854.0</td>\n",
              "      <td>419628.0</td>\n",
              "      <td>559580.0</td>\n",
              "      <td>735904.0</td>\n",
              "    </tr>\n",
              "    <tr>\n",
              "      <th>2008-09-30</th>\n",
              "      <td>451583.0</td>\n",
              "      <td>423811.0</td>\n",
              "      <td>561852.0</td>\n",
              "      <td>758340.0</td>\n",
              "    </tr>\n",
              "    <tr>\n",
              "      <th>2008-12-31</th>\n",
              "      <td>440256.0</td>\n",
              "      <td>426488.0</td>\n",
              "      <td>565467.0</td>\n",
              "      <td>764025.0</td>\n",
              "    </tr>\n",
              "    <tr>\n",
              "      <th>2009-03-31</th>\n",
              "      <td>442566.0</td>\n",
              "      <td>437724.0</td>\n",
              "      <td>569682.0</td>\n",
              "      <td>770046.0</td>\n",
              "    </tr>\n",
              "    <tr>\n",
              "      <th>2009-06-30</th>\n",
              "      <td>446113.0</td>\n",
              "      <td>444351.0</td>\n",
              "      <td>574680.0</td>\n",
              "      <td>765555.0</td>\n",
              "    </tr>\n",
              "    <tr>\n",
              "      <th>2009-09-30</th>\n",
              "      <td>440123.0</td>\n",
              "      <td>449742.0</td>\n",
              "      <td>579369.0</td>\n",
              "      <td>765515.0</td>\n",
              "    </tr>\n",
              "    <tr>\n",
              "      <th>2009-12-31</th>\n",
              "      <td>442131.0</td>\n",
              "      <td>457394.0</td>\n",
              "      <td>588379.0</td>\n",
              "      <td>771280.0</td>\n",
              "    </tr>\n",
              "    <tr>\n",
              "      <th>2010-03-31</th>\n",
              "      <td>459222.0</td>\n",
              "      <td>466433.0</td>\n",
              "      <td>599614.0</td>\n",
              "      <td>773355.0</td>\n",
              "    </tr>\n",
              "    <tr>\n",
              "      <th>2010-06-30</th>\n",
              "      <td>456822.0</td>\n",
              "      <td>474590.0</td>\n",
              "      <td>608528.0</td>\n",
              "      <td>776325.0</td>\n",
              "    </tr>\n",
              "    <tr>\n",
              "      <th>2010-09-30</th>\n",
              "      <td>457806.0</td>\n",
              "      <td>483176.0</td>\n",
              "      <td>615603.0</td>\n",
              "      <td>772699.0</td>\n",
              "    </tr>\n",
              "    <tr>\n",
              "      <th>2010-12-31</th>\n",
              "      <td>459109.0</td>\n",
              "      <td>491715.0</td>\n",
              "      <td>623105.0</td>\n",
              "      <td>775199.0</td>\n",
              "    </tr>\n",
              "    <tr>\n",
              "      <th>2011-03-31</th>\n",
              "      <td>460758.0</td>\n",
              "      <td>498022.0</td>\n",
              "      <td>628969.0</td>\n",
              "      <td>778470.0</td>\n",
              "    </tr>\n",
              "    <tr>\n",
              "      <th>2011-06-30</th>\n",
              "      <td>464788.0</td>\n",
              "      <td>503891.0</td>\n",
              "      <td>634155.0</td>\n",
              "      <td>789627.0</td>\n",
              "    </tr>\n",
              "    <tr>\n",
              "      <th>2011-09-30</th>\n",
              "      <td>467546.0</td>\n",
              "      <td>507090.0</td>\n",
              "      <td>636582.0</td>\n",
              "      <td>789614.0</td>\n",
              "    </tr>\n",
              "    <tr>\n",
              "      <th>2011-12-31</th>\n",
              "      <td>470333.0</td>\n",
              "      <td>507744.0</td>\n",
              "      <td>637421.0</td>\n",
              "      <td>790965.0</td>\n",
              "    </tr>\n",
              "    <tr>\n",
              "      <th>2012-03-31</th>\n",
              "      <td>470365.0</td>\n",
              "      <td>507449.0</td>\n",
              "      <td>635411.0</td>\n",
              "      <td>794533.0</td>\n",
              "    </tr>\n",
              "    <tr>\n",
              "      <th>2012-06-30</th>\n",
              "      <td>469149.0</td>\n",
              "      <td>507014.0</td>\n",
              "      <td>633695.0</td>\n",
              "      <td>792171.0</td>\n",
              "    </tr>\n",
              "    <tr>\n",
              "      <th>2012-09-30</th>\n",
              "      <td>465919.0</td>\n",
              "      <td>506615.0</td>\n",
              "      <td>634803.0</td>\n",
              "      <td>800432.0</td>\n",
              "    </tr>\n",
              "    <tr>\n",
              "      <th>2012-12-31</th>\n",
              "      <td>463090.0</td>\n",
              "      <td>506615.0</td>\n",
              "      <td>633875.0</td>\n",
              "      <td>804474.0</td>\n",
              "    </tr>\n",
              "    <tr>\n",
              "      <th>2013-03-31</th>\n",
              "      <td>451077.0</td>\n",
              "      <td>506380.0</td>\n",
              "      <td>634229.0</td>\n",
              "      <td>807826.0</td>\n",
              "    </tr>\n",
              "    <tr>\n",
              "      <th>2013-06-30</th>\n",
              "      <td>451516.0</td>\n",
              "      <td>505739.0</td>\n",
              "      <td>635515.0</td>\n",
              "      <td>812224.0</td>\n",
              "    </tr>\n",
              "    <tr>\n",
              "      <th>2013-09-30</th>\n",
              "      <td>454270.0</td>\n",
              "      <td>505823.0</td>\n",
              "      <td>636687.0</td>\n",
              "      <td>805066.0</td>\n",
              "    </tr>\n",
              "    <tr>\n",
              "      <th>2013-12-31</th>\n",
              "      <td>456548.0</td>\n",
              "      <td>506406.0</td>\n",
              "      <td>641125.0</td>\n",
              "      <td>805682.0</td>\n",
              "    </tr>\n",
              "    <tr>\n",
              "      <th>2014-03-31</th>\n",
              "      <td>469920.0</td>\n",
              "      <td>508499.0</td>\n",
              "      <td>648174.0</td>\n",
              "      <td>811908.0</td>\n",
              "    </tr>\n",
              "    <tr>\n",
              "      <th>2014-06-30</th>\n",
              "      <td>472726.0</td>\n",
              "      <td>512374.0</td>\n",
              "      <td>655757.0</td>\n",
              "      <td>820368.0</td>\n",
              "    </tr>\n",
              "    <tr>\n",
              "      <th>2014-09-30</th>\n",
              "      <td>475326.0</td>\n",
              "      <td>516618.0</td>\n",
              "      <td>664635.0</td>\n",
              "      <td>843904.0</td>\n",
              "    </tr>\n",
              "    <tr>\n",
              "      <th>2014-12-31</th>\n",
              "      <td>478413.0</td>\n",
              "      <td>522103.0</td>\n",
              "      <td>673762.0</td>\n",
              "      <td>855039.0</td>\n",
              "    </tr>\n",
              "    <tr>\n",
              "      <th>2015-03-31</th>\n",
              "      <td>478398.0</td>\n",
              "      <td>528926.0</td>\n",
              "      <td>684006.0</td>\n",
              "      <td>866489.0</td>\n",
              "    </tr>\n",
              "    <tr>\n",
              "      <th>2015-06-30</th>\n",
              "      <td>477238.0</td>\n",
              "      <td>534927.0</td>\n",
              "      <td>694800.0</td>\n",
              "      <td>880625.0</td>\n",
              "    </tr>\n",
              "    <tr>\n",
              "      <th>2015-09-30</th>\n",
              "      <td>477330.0</td>\n",
              "      <td>542051.0</td>\n",
              "      <td>706711.0</td>\n",
              "      <td>891981.0</td>\n",
              "    </tr>\n",
              "    <tr>\n",
              "      <th>2015-12-31</th>\n",
              "      <td>479010.0</td>\n",
              "      <td>549278.0</td>\n",
              "      <td>718261.0</td>\n",
              "      <td>909131.0</td>\n",
              "    </tr>\n",
              "    <tr>\n",
              "      <th>2016-03-31</th>\n",
              "      <td>482440.0</td>\n",
              "      <td>556586.0</td>\n",
              "      <td>727736.0</td>\n",
              "      <td>923594.0</td>\n",
              "    </tr>\n",
              "    <tr>\n",
              "      <th>2016-06-30</th>\n",
              "      <td>486436.0</td>\n",
              "      <td>564267.0</td>\n",
              "      <td>737159.0</td>\n",
              "      <td>933589.0</td>\n",
              "    </tr>\n",
              "    <tr>\n",
              "      <th>2016-09-30</th>\n",
              "      <td>489104.0</td>\n",
              "      <td>572582.0</td>\n",
              "      <td>745430.0</td>\n",
              "      <td>952327.0</td>\n",
              "    </tr>\n",
              "    <tr>\n",
              "      <th>2016-12-31</th>\n",
              "      <td>491152.0</td>\n",
              "      <td>581485.0</td>\n",
              "      <td>755683.0</td>\n",
              "      <td>968331.0</td>\n",
              "    </tr>\n",
              "    <tr>\n",
              "      <th>2017-03-31</th>\n",
              "      <td>494544.0</td>\n",
              "      <td>590949.0</td>\n",
              "      <td>771216.0</td>\n",
              "      <td>980953.0</td>\n",
              "    </tr>\n",
              "    <tr>\n",
              "      <th>2017-06-30</th>\n",
              "      <td>498846.0</td>\n",
              "      <td>601041.0</td>\n",
              "      <td>789732.0</td>\n",
              "      <td>995349.0</td>\n",
              "    </tr>\n",
              "    <tr>\n",
              "      <th>2017-09-30</th>\n",
              "      <td>504592.0</td>\n",
              "      <td>609355.0</td>\n",
              "      <td>810694.0</td>\n",
              "      <td>1004117.0</td>\n",
              "    </tr>\n",
              "    <tr>\n",
              "      <th>2017-12-31</th>\n",
              "      <td>506578.0</td>\n",
              "      <td>615743.0</td>\n",
              "      <td>828058.0</td>\n",
              "      <td>1010848.0</td>\n",
              "    </tr>\n",
              "    <tr>\n",
              "      <th>2018-03-31</th>\n",
              "      <td>507248.0</td>\n",
              "      <td>619638.0</td>\n",
              "      <td>836056.0</td>\n",
              "      <td>1015529.0</td>\n",
              "    </tr>\n",
              "  </tbody>\n",
              "</table>\n",
              "</div>"
            ],
            "text/plain": [
              "bedrooms           2         3         4          5\n",
              "saledate                                           \n",
              "2007-03-31  441854.0  421291.0  548969.0   735904.0\n",
              "2007-06-30  441854.0  421291.0  548969.0   735904.0\n",
              "2007-09-30  441854.0  421291.0  548969.0   735904.0\n",
              "2007-12-31  441854.0  421291.0  548969.0   735904.0\n",
              "2008-03-31  441854.0  416031.0  552484.0   735904.0\n",
              "2008-06-30  441854.0  419628.0  559580.0   735904.0\n",
              "2008-09-30  451583.0  423811.0  561852.0   758340.0\n",
              "2008-12-31  440256.0  426488.0  565467.0   764025.0\n",
              "2009-03-31  442566.0  437724.0  569682.0   770046.0\n",
              "2009-06-30  446113.0  444351.0  574680.0   765555.0\n",
              "2009-09-30  440123.0  449742.0  579369.0   765515.0\n",
              "2009-12-31  442131.0  457394.0  588379.0   771280.0\n",
              "2010-03-31  459222.0  466433.0  599614.0   773355.0\n",
              "2010-06-30  456822.0  474590.0  608528.0   776325.0\n",
              "2010-09-30  457806.0  483176.0  615603.0   772699.0\n",
              "2010-12-31  459109.0  491715.0  623105.0   775199.0\n",
              "2011-03-31  460758.0  498022.0  628969.0   778470.0\n",
              "2011-06-30  464788.0  503891.0  634155.0   789627.0\n",
              "2011-09-30  467546.0  507090.0  636582.0   789614.0\n",
              "2011-12-31  470333.0  507744.0  637421.0   790965.0\n",
              "2012-03-31  470365.0  507449.0  635411.0   794533.0\n",
              "2012-06-30  469149.0  507014.0  633695.0   792171.0\n",
              "2012-09-30  465919.0  506615.0  634803.0   800432.0\n",
              "2012-12-31  463090.0  506615.0  633875.0   804474.0\n",
              "2013-03-31  451077.0  506380.0  634229.0   807826.0\n",
              "2013-06-30  451516.0  505739.0  635515.0   812224.0\n",
              "2013-09-30  454270.0  505823.0  636687.0   805066.0\n",
              "2013-12-31  456548.0  506406.0  641125.0   805682.0\n",
              "2014-03-31  469920.0  508499.0  648174.0   811908.0\n",
              "2014-06-30  472726.0  512374.0  655757.0   820368.0\n",
              "2014-09-30  475326.0  516618.0  664635.0   843904.0\n",
              "2014-12-31  478413.0  522103.0  673762.0   855039.0\n",
              "2015-03-31  478398.0  528926.0  684006.0   866489.0\n",
              "2015-06-30  477238.0  534927.0  694800.0   880625.0\n",
              "2015-09-30  477330.0  542051.0  706711.0   891981.0\n",
              "2015-12-31  479010.0  549278.0  718261.0   909131.0\n",
              "2016-03-31  482440.0  556586.0  727736.0   923594.0\n",
              "2016-06-30  486436.0  564267.0  737159.0   933589.0\n",
              "2016-09-30  489104.0  572582.0  745430.0   952327.0\n",
              "2016-12-31  491152.0  581485.0  755683.0   968331.0\n",
              "2017-03-31  494544.0  590949.0  771216.0   980953.0\n",
              "2017-06-30  498846.0  601041.0  789732.0   995349.0\n",
              "2017-09-30  504592.0  609355.0  810694.0  1004117.0\n",
              "2017-12-31  506578.0  615743.0  828058.0  1010848.0\n",
              "2018-03-31  507248.0  619638.0  836056.0  1015529.0"
            ]
          },
          "metadata": {
            "tags": []
          },
          "execution_count": 27
        }
      ]
    },
    {
      "cell_type": "code",
      "metadata": {
        "id": "81sb3WvDVRIn",
        "outputId": "eb53a39b-b1d8-440e-92f2-c3d9324a9183"
      },
      "source": [
        "test"
      ],
      "execution_count": null,
      "outputs": [
        {
          "output_type": "execute_result",
          "data": {
            "text/html": [
              "<div>\n",
              "<style scoped>\n",
              "    .dataframe tbody tr th:only-of-type {\n",
              "        vertical-align: middle;\n",
              "    }\n",
              "\n",
              "    .dataframe tbody tr th {\n",
              "        vertical-align: top;\n",
              "    }\n",
              "\n",
              "    .dataframe thead th {\n",
              "        text-align: right;\n",
              "    }\n",
              "</style>\n",
              "<table border=\"1\" class=\"dataframe\">\n",
              "  <thead>\n",
              "    <tr style=\"text-align: right;\">\n",
              "      <th>bedrooms</th>\n",
              "      <th>2</th>\n",
              "      <th>3</th>\n",
              "      <th>4</th>\n",
              "      <th>5</th>\n",
              "    </tr>\n",
              "    <tr>\n",
              "      <th>saledate</th>\n",
              "      <th></th>\n",
              "      <th></th>\n",
              "      <th></th>\n",
              "      <th></th>\n",
              "    </tr>\n",
              "  </thead>\n",
              "  <tbody>\n",
              "    <tr>\n",
              "      <th>2018-06-30</th>\n",
              "      <td>506116.0</td>\n",
              "      <td>622466.0</td>\n",
              "      <td>837295.0</td>\n",
              "      <td>1017752.0</td>\n",
              "    </tr>\n",
              "    <tr>\n",
              "      <th>2018-09-30</th>\n",
              "      <td>504318.0</td>\n",
              "      <td>624602.0</td>\n",
              "      <td>830727.0</td>\n",
              "      <td>1007114.0</td>\n",
              "    </tr>\n",
              "    <tr>\n",
              "      <th>2018-12-31</th>\n",
              "      <td>506001.0</td>\n",
              "      <td>626608.0</td>\n",
              "      <td>820924.0</td>\n",
              "      <td>1002323.0</td>\n",
              "    </tr>\n",
              "    <tr>\n",
              "      <th>2019-03-31</th>\n",
              "      <td>496133.0</td>\n",
              "      <td>628423.0</td>\n",
              "      <td>811121.0</td>\n",
              "      <td>998136.0</td>\n",
              "    </tr>\n",
              "    <tr>\n",
              "      <th>2019-06-30</th>\n",
              "      <td>500158.0</td>\n",
              "      <td>630814.0</td>\n",
              "      <td>803925.0</td>\n",
              "      <td>995363.0</td>\n",
              "    </tr>\n",
              "    <tr>\n",
              "      <th>2019-09-30</th>\n",
              "      <td>510712.0</td>\n",
              "      <td>631875.0</td>\n",
              "      <td>791446.0</td>\n",
              "      <td>970268.0</td>\n",
              "    </tr>\n",
              "  </tbody>\n",
              "</table>\n",
              "</div>"
            ],
            "text/plain": [
              "bedrooms           2         3         4          5\n",
              "saledate                                           \n",
              "2018-06-30  506116.0  622466.0  837295.0  1017752.0\n",
              "2018-09-30  504318.0  624602.0  830727.0  1007114.0\n",
              "2018-12-31  506001.0  626608.0  820924.0  1002323.0\n",
              "2019-03-31  496133.0  628423.0  811121.0   998136.0\n",
              "2019-06-30  500158.0  630814.0  803925.0   995363.0\n",
              "2019-09-30  510712.0  631875.0  791446.0   970268.0"
            ]
          },
          "metadata": {
            "tags": []
          },
          "execution_count": 28
        }
      ]
    },
    {
      "cell_type": "code",
      "metadata": {
        "id": "IBMBENniVRIo",
        "outputId": "237b3ab6-fcc3-4977-f6b5-0f47b61ff91e"
      },
      "source": [
        "cols = df_median.columns\n",
        "pred = pd.DataFrame(index=test.index, data=forecast,columns=[cols])\n",
        "pred=pred.astype(int)\n",
        "pred.head()"
      ],
      "execution_count": null,
      "outputs": [
        {
          "output_type": "execute_result",
          "data": {
            "text/html": [
              "<div>\n",
              "<style scoped>\n",
              "    .dataframe tbody tr th:only-of-type {\n",
              "        vertical-align: middle;\n",
              "    }\n",
              "\n",
              "    .dataframe tbody tr th {\n",
              "        vertical-align: top;\n",
              "    }\n",
              "\n",
              "    .dataframe thead tr th {\n",
              "        text-align: left;\n",
              "    }\n",
              "\n",
              "    .dataframe thead tr:last-of-type th {\n",
              "        text-align: right;\n",
              "    }\n",
              "</style>\n",
              "<table border=\"1\" class=\"dataframe\">\n",
              "  <thead>\n",
              "    <tr>\n",
              "      <th>bedrooms</th>\n",
              "      <th>2</th>\n",
              "      <th>3</th>\n",
              "      <th>4</th>\n",
              "      <th>5</th>\n",
              "    </tr>\n",
              "    <tr>\n",
              "      <th>saledate</th>\n",
              "      <th></th>\n",
              "      <th></th>\n",
              "      <th></th>\n",
              "      <th></th>\n",
              "    </tr>\n",
              "  </thead>\n",
              "  <tbody>\n",
              "    <tr>\n",
              "      <th>2018-06-30</th>\n",
              "      <td>516161</td>\n",
              "      <td>629493</td>\n",
              "      <td>853001</td>\n",
              "      <td>1032241</td>\n",
              "    </tr>\n",
              "    <tr>\n",
              "      <th>2018-09-30</th>\n",
              "      <td>523161</td>\n",
              "      <td>639565</td>\n",
              "      <td>870641</td>\n",
              "      <td>1051271</td>\n",
              "    </tr>\n",
              "    <tr>\n",
              "      <th>2018-12-31</th>\n",
              "      <td>529220</td>\n",
              "      <td>650081</td>\n",
              "      <td>889273</td>\n",
              "      <td>1072171</td>\n",
              "    </tr>\n",
              "    <tr>\n",
              "      <th>2019-03-31</th>\n",
              "      <td>534918</td>\n",
              "      <td>661189</td>\n",
              "      <td>909100</td>\n",
              "      <td>1094730</td>\n",
              "    </tr>\n",
              "    <tr>\n",
              "      <th>2019-06-30</th>\n",
              "      <td>540601</td>\n",
              "      <td>672991</td>\n",
              "      <td>930274</td>\n",
              "      <td>1118879</td>\n",
              "    </tr>\n",
              "  </tbody>\n",
              "</table>\n",
              "</div>"
            ],
            "text/plain": [
              "bedrooms         2       3       4        5\n",
              "saledate                                   \n",
              "2018-06-30  516161  629493  853001  1032241\n",
              "2018-09-30  523161  639565  870641  1051271\n",
              "2018-12-31  529220  650081  889273  1072171\n",
              "2019-03-31  534918  661189  909100  1094730\n",
              "2019-06-30  540601  672991  930274  1118879"
            ]
          },
          "metadata": {
            "tags": []
          },
          "execution_count": 29
        }
      ]
    },
    {
      "cell_type": "code",
      "metadata": {
        "scrolled": false,
        "id": "d5SacAJ2VRIp",
        "outputId": "158a539a-93e3-434d-a5e1-d1145646e07d"
      },
      "source": [
        "#Plot actuals (df) and forecast (pred) on the same chart\n",
        "ax = df_median.plot()\n",
        "pred.plot(ax=ax,figsize=(15,5))"
      ],
      "execution_count": null,
      "outputs": [
        {
          "output_type": "execute_result",
          "data": {
            "text/plain": [
              "<AxesSubplot:xlabel='saledate'>"
            ]
          },
          "metadata": {
            "tags": []
          },
          "execution_count": 30
        },
        {
          "output_type": "display_data",
          "data": {
            "image/png": "[encoded data removed]",
            "text/plain": [
              "<Figure size 1080x360 with 1 Axes>"
            ]
          },
          "metadata": {
            "tags": [],
            "needs_background": "light"
          }
        }
      ]
    },
    {
      "cell_type": "code",
      "metadata": {
        "id": "Eb4qcTo7VRIp",
        "outputId": "d03a7f11-36a7-4286-e2e6-e87da64b2b9f"
      },
      "source": [
        "from sklearn.metrics import mean_absolute_error, mean_squared_error\n",
        "MAE_VAR = mean_absolute_error(y_true=test.iloc[:,0],y_pred=pred.iloc[:4,0])\n",
        "MAE_VAR"
      ],
      "execution_count": null,
      "outputs": [
        {
          "output_type": "execute_result",
          "data": {
            "text/plain": [
              "22614.0"
            ]
          },
          "metadata": {
            "tags": []
          },
          "execution_count": 93
        }
      ]
    },
    {
      "cell_type": "code",
      "metadata": {
        "id": "80mt0lhJVRIq",
        "outputId": "2b967211-24b6-4f78-b14e-cd3789612e24"
      },
      "source": [
        "df_median.head()"
      ],
      "execution_count": null,
      "outputs": [
        {
          "output_type": "execute_result",
          "data": {
            "text/html": [
              "<div>\n",
              "<style scoped>\n",
              "    .dataframe tbody tr th:only-of-type {\n",
              "        vertical-align: middle;\n",
              "    }\n",
              "\n",
              "    .dataframe tbody tr th {\n",
              "        vertical-align: top;\n",
              "    }\n",
              "\n",
              "    .dataframe thead th {\n",
              "        text-align: right;\n",
              "    }\n",
              "</style>\n",
              "<table border=\"1\" class=\"dataframe\">\n",
              "  <thead>\n",
              "    <tr style=\"text-align: right;\">\n",
              "      <th>bedrooms</th>\n",
              "      <th>2</th>\n",
              "      <th>3</th>\n",
              "      <th>4</th>\n",
              "      <th>5</th>\n",
              "    </tr>\n",
              "    <tr>\n",
              "      <th>saledate</th>\n",
              "      <th></th>\n",
              "      <th></th>\n",
              "      <th></th>\n",
              "      <th></th>\n",
              "    </tr>\n",
              "  </thead>\n",
              "  <tbody>\n",
              "    <tr>\n",
              "      <th>2007-03-31</th>\n",
              "      <td>441854.0</td>\n",
              "      <td>421291.0</td>\n",
              "      <td>548969.0</td>\n",
              "      <td>735904.0</td>\n",
              "    </tr>\n",
              "    <tr>\n",
              "      <th>2007-06-30</th>\n",
              "      <td>441854.0</td>\n",
              "      <td>421291.0</td>\n",
              "      <td>548969.0</td>\n",
              "      <td>735904.0</td>\n",
              "    </tr>\n",
              "    <tr>\n",
              "      <th>2007-09-30</th>\n",
              "      <td>441854.0</td>\n",
              "      <td>421291.0</td>\n",
              "      <td>548969.0</td>\n",
              "      <td>735904.0</td>\n",
              "    </tr>\n",
              "    <tr>\n",
              "      <th>2007-12-31</th>\n",
              "      <td>441854.0</td>\n",
              "      <td>421291.0</td>\n",
              "      <td>548969.0</td>\n",
              "      <td>735904.0</td>\n",
              "    </tr>\n",
              "    <tr>\n",
              "      <th>2008-03-31</th>\n",
              "      <td>441854.0</td>\n",
              "      <td>416031.0</td>\n",
              "      <td>552484.0</td>\n",
              "      <td>735904.0</td>\n",
              "    </tr>\n",
              "  </tbody>\n",
              "</table>\n",
              "</div>"
            ],
            "text/plain": [
              "bedrooms           2         3         4         5\n",
              "saledate                                          \n",
              "2007-03-31  441854.0  421291.0  548969.0  735904.0\n",
              "2007-06-30  441854.0  421291.0  548969.0  735904.0\n",
              "2007-09-30  441854.0  421291.0  548969.0  735904.0\n",
              "2007-12-31  441854.0  421291.0  548969.0  735904.0\n",
              "2008-03-31  441854.0  416031.0  552484.0  735904.0"
            ]
          },
          "metadata": {
            "tags": []
          },
          "execution_count": 31
        }
      ]
    },
    {
      "cell_type": "code",
      "metadata": {
        "id": "mRCD7nOWVRIq"
      },
      "source": [
        "df2= pd.read_csv('ma_lga_12345.csv')"
      ],
      "execution_count": null,
      "outputs": []
    },
    {
      "cell_type": "code",
      "metadata": {
        "id": "SrXJ38roVRIr",
        "outputId": "7e60da5e-736c-4dd3-b18d-9dbc12e992d8"
      },
      "source": [
        "df2.head()"
      ],
      "execution_count": null,
      "outputs": [
        {
          "output_type": "execute_result",
          "data": {
            "text/html": [
              "<div>\n",
              "<style scoped>\n",
              "    .dataframe tbody tr th:only-of-type {\n",
              "        vertical-align: middle;\n",
              "    }\n",
              "\n",
              "    .dataframe tbody tr th {\n",
              "        vertical-align: top;\n",
              "    }\n",
              "\n",
              "    .dataframe thead th {\n",
              "        text-align: right;\n",
              "    }\n",
              "</style>\n",
              "<table border=\"1\" class=\"dataframe\">\n",
              "  <thead>\n",
              "    <tr style=\"text-align: right;\">\n",
              "      <th></th>\n",
              "      <th>saledate</th>\n",
              "      <th>MA</th>\n",
              "      <th>type</th>\n",
              "      <th>bedrooms</th>\n",
              "    </tr>\n",
              "  </thead>\n",
              "  <tbody>\n",
              "    <tr>\n",
              "      <th>0</th>\n",
              "      <td>30/09/2007</td>\n",
              "      <td>441854</td>\n",
              "      <td>house</td>\n",
              "      <td>2</td>\n",
              "    </tr>\n",
              "    <tr>\n",
              "      <th>1</th>\n",
              "      <td>31/12/2007</td>\n",
              "      <td>441854</td>\n",
              "      <td>house</td>\n",
              "      <td>2</td>\n",
              "    </tr>\n",
              "    <tr>\n",
              "      <th>2</th>\n",
              "      <td>31/03/2008</td>\n",
              "      <td>441854</td>\n",
              "      <td>house</td>\n",
              "      <td>2</td>\n",
              "    </tr>\n",
              "    <tr>\n",
              "      <th>3</th>\n",
              "      <td>30/06/2008</td>\n",
              "      <td>441854</td>\n",
              "      <td>house</td>\n",
              "      <td>2</td>\n",
              "    </tr>\n",
              "    <tr>\n",
              "      <th>4</th>\n",
              "      <td>30/09/2008</td>\n",
              "      <td>451583</td>\n",
              "      <td>house</td>\n",
              "      <td>2</td>\n",
              "    </tr>\n",
              "  </tbody>\n",
              "</table>\n",
              "</div>"
            ],
            "text/plain": [
              "     saledate      MA   type  bedrooms\n",
              "0  30/09/2007  441854  house         2\n",
              "1  31/12/2007  441854  house         2\n",
              "2  31/03/2008  441854  house         2\n",
              "3  30/06/2008  441854  house         2\n",
              "4  30/09/2008  451583  house         2"
            ]
          },
          "metadata": {
            "tags": []
          },
          "execution_count": 33
        }
      ]
    },
    {
      "cell_type": "code",
      "metadata": {
        "id": "zN1Z6e_XVRIr"
      },
      "source": [
        "df2=df2[df2.type=='house']\n",
        "df2.drop(columns=['type'],axis=1,inplace=True)"
      ],
      "execution_count": null,
      "outputs": []
    },
    {
      "cell_type": "code",
      "metadata": {
        "id": "mNqZFjWZVRIr"
      },
      "source": [
        "data1=df2[df2.bedrooms==2]"
      ],
      "execution_count": null,
      "outputs": []
    },
    {
      "cell_type": "code",
      "metadata": {
        "id": "8uHCwmziVRIs",
        "outputId": "88bd8926-c3cf-4ee0-83cc-156fb5cd39b4"
      },
      "source": [
        "data1.head()"
      ],
      "execution_count": null,
      "outputs": [
        {
          "output_type": "execute_result",
          "data": {
            "text/html": [
              "<div>\n",
              "<style scoped>\n",
              "    .dataframe tbody tr th:only-of-type {\n",
              "        vertical-align: middle;\n",
              "    }\n",
              "\n",
              "    .dataframe tbody tr th {\n",
              "        vertical-align: top;\n",
              "    }\n",
              "\n",
              "    .dataframe thead th {\n",
              "        text-align: right;\n",
              "    }\n",
              "</style>\n",
              "<table border=\"1\" class=\"dataframe\">\n",
              "  <thead>\n",
              "    <tr style=\"text-align: right;\">\n",
              "      <th></th>\n",
              "      <th>saledate</th>\n",
              "      <th>MA</th>\n",
              "      <th>bedrooms</th>\n",
              "    </tr>\n",
              "  </thead>\n",
              "  <tbody>\n",
              "    <tr>\n",
              "      <th>0</th>\n",
              "      <td>30/09/2007</td>\n",
              "      <td>441854</td>\n",
              "      <td>2</td>\n",
              "    </tr>\n",
              "    <tr>\n",
              "      <th>1</th>\n",
              "      <td>31/12/2007</td>\n",
              "      <td>441854</td>\n",
              "      <td>2</td>\n",
              "    </tr>\n",
              "    <tr>\n",
              "      <th>2</th>\n",
              "      <td>31/03/2008</td>\n",
              "      <td>441854</td>\n",
              "      <td>2</td>\n",
              "    </tr>\n",
              "    <tr>\n",
              "      <th>3</th>\n",
              "      <td>30/06/2008</td>\n",
              "      <td>441854</td>\n",
              "      <td>2</td>\n",
              "    </tr>\n",
              "    <tr>\n",
              "      <th>4</th>\n",
              "      <td>30/09/2008</td>\n",
              "      <td>451583</td>\n",
              "      <td>2</td>\n",
              "    </tr>\n",
              "  </tbody>\n",
              "</table>\n",
              "</div>"
            ],
            "text/plain": [
              "     saledate      MA  bedrooms\n",
              "0  30/09/2007  441854         2\n",
              "1  31/12/2007  441854         2\n",
              "2  31/03/2008  441854         2\n",
              "3  30/06/2008  441854         2\n",
              "4  30/09/2008  451583         2"
            ]
          },
          "metadata": {
            "tags": []
          },
          "execution_count": 36
        }
      ]
    },
    {
      "cell_type": "code",
      "metadata": {
        "id": "Kx3r7Zy5VRIs",
        "outputId": "2ceaa545-0c7e-41ca-8d87-b5ffecaca1a5"
      },
      "source": [
        "data1.drop(columns=['bedrooms'],axis=1,inplace=True)"
      ],
      "execution_count": null,
      "outputs": [
        {
          "output_type": "stream",
          "text": [
            "C:\\Users\\HP\\anaconda3\\lib\\site-packages\\pandas\\core\\frame.py:4163: SettingWithCopyWarning: \n",
            "A value is trying to be set on a copy of a slice from a DataFrame\n",
            "\n",
            "See the caveats in the documentation: https://pandas.pydata.org/pandas-docs/stable/user_guide/indexing.html#returning-a-view-versus-a-copy\n",
            "  return super().drop(\n"
          ],
          "name": "stderr"
        }
      ]
    },
    {
      "cell_type": "code",
      "metadata": {
        "id": "CxQCNdYEVRIs"
      },
      "source": [
        "data1.reset_index(inplace=True)"
      ],
      "execution_count": null,
      "outputs": []
    },
    {
      "cell_type": "code",
      "metadata": {
        "id": "DghKPxuvVRIs",
        "outputId": "7a730dad-9bcc-4279-d90b-965cedf59eed"
      },
      "source": [
        "for i in range(len(data1.saledate)):\n",
        "    data1.saledate.loc[i] = datetime.strftime(datetime.strptime(data1.saledate.loc[i], '%d/%m/%Y'), '%m-%Y')"
      ],
      "execution_count": null,
      "outputs": [
        {
          "output_type": "stream",
          "text": [
            "C:\\Users\\HP\\anaconda3\\lib\\site-packages\\pandas\\core\\indexing.py:670: SettingWithCopyWarning: \n",
            "A value is trying to be set on a copy of a slice from a DataFrame\n",
            "\n",
            "See the caveats in the documentation: https://pandas.pydata.org/pandas-docs/stable/user_guide/indexing.html#returning-a-view-versus-a-copy\n",
            "  iloc._setitem_with_indexer(indexer, value)\n",
            "<ipython-input-39-8b4562ce3116>:2: SettingWithCopyWarning: \n",
            "A value is trying to be set on a copy of a slice from a DataFrame\n",
            "\n",
            "See the caveats in the documentation: https://pandas.pydata.org/pandas-docs/stable/user_guide/indexing.html#returning-a-view-versus-a-copy\n",
            "  data1.saledate.loc[i] = datetime.strftime(datetime.strptime(data1.saledate.loc[i], '%d/%m/%Y'), '%m-%Y')\n"
          ],
          "name": "stderr"
        }
      ]
    },
    {
      "cell_type": "code",
      "metadata": {
        "scrolled": true,
        "id": "U-twXFsvVRIt",
        "outputId": "ed2820df-c085-4adc-ba60-919d138e58e1"
      },
      "source": [
        "data1"
      ],
      "execution_count": null,
      "outputs": [
        {
          "output_type": "execute_result",
          "data": {
            "text/html": [
              "<div>\n",
              "<style scoped>\n",
              "    .dataframe tbody tr th:only-of-type {\n",
              "        vertical-align: middle;\n",
              "    }\n",
              "\n",
              "    .dataframe tbody tr th {\n",
              "        vertical-align: top;\n",
              "    }\n",
              "\n",
              "    .dataframe thead th {\n",
              "        text-align: right;\n",
              "    }\n",
              "</style>\n",
              "<table border=\"1\" class=\"dataframe\">\n",
              "  <thead>\n",
              "    <tr style=\"text-align: right;\">\n",
              "      <th></th>\n",
              "      <th>index</th>\n",
              "      <th>saledate</th>\n",
              "      <th>MA</th>\n",
              "    </tr>\n",
              "  </thead>\n",
              "  <tbody>\n",
              "    <tr>\n",
              "      <th>0</th>\n",
              "      <td>0</td>\n",
              "      <td>09-2007</td>\n",
              "      <td>441854</td>\n",
              "    </tr>\n",
              "    <tr>\n",
              "      <th>1</th>\n",
              "      <td>1</td>\n",
              "      <td>12-2007</td>\n",
              "      <td>441854</td>\n",
              "    </tr>\n",
              "    <tr>\n",
              "      <th>2</th>\n",
              "      <td>2</td>\n",
              "      <td>03-2008</td>\n",
              "      <td>441854</td>\n",
              "    </tr>\n",
              "    <tr>\n",
              "      <th>3</th>\n",
              "      <td>3</td>\n",
              "      <td>06-2008</td>\n",
              "      <td>441854</td>\n",
              "    </tr>\n",
              "    <tr>\n",
              "      <th>4</th>\n",
              "      <td>4</td>\n",
              "      <td>09-2008</td>\n",
              "      <td>451583</td>\n",
              "    </tr>\n",
              "    <tr>\n",
              "      <th>5</th>\n",
              "      <td>5</td>\n",
              "      <td>12-2008</td>\n",
              "      <td>440256</td>\n",
              "    </tr>\n",
              "    <tr>\n",
              "      <th>6</th>\n",
              "      <td>6</td>\n",
              "      <td>03-2009</td>\n",
              "      <td>442566</td>\n",
              "    </tr>\n",
              "    <tr>\n",
              "      <th>7</th>\n",
              "      <td>7</td>\n",
              "      <td>06-2009</td>\n",
              "      <td>446113</td>\n",
              "    </tr>\n",
              "    <tr>\n",
              "      <th>8</th>\n",
              "      <td>8</td>\n",
              "      <td>09-2009</td>\n",
              "      <td>440123</td>\n",
              "    </tr>\n",
              "    <tr>\n",
              "      <th>9</th>\n",
              "      <td>9</td>\n",
              "      <td>12-2009</td>\n",
              "      <td>442131</td>\n",
              "    </tr>\n",
              "    <tr>\n",
              "      <th>10</th>\n",
              "      <td>10</td>\n",
              "      <td>03-2010</td>\n",
              "      <td>459222</td>\n",
              "    </tr>\n",
              "    <tr>\n",
              "      <th>11</th>\n",
              "      <td>11</td>\n",
              "      <td>06-2010</td>\n",
              "      <td>456822</td>\n",
              "    </tr>\n",
              "    <tr>\n",
              "      <th>12</th>\n",
              "      <td>12</td>\n",
              "      <td>09-2010</td>\n",
              "      <td>457806</td>\n",
              "    </tr>\n",
              "    <tr>\n",
              "      <th>13</th>\n",
              "      <td>13</td>\n",
              "      <td>12-2010</td>\n",
              "      <td>459109</td>\n",
              "    </tr>\n",
              "    <tr>\n",
              "      <th>14</th>\n",
              "      <td>14</td>\n",
              "      <td>03-2011</td>\n",
              "      <td>460758</td>\n",
              "    </tr>\n",
              "    <tr>\n",
              "      <th>15</th>\n",
              "      <td>15</td>\n",
              "      <td>06-2011</td>\n",
              "      <td>464788</td>\n",
              "    </tr>\n",
              "    <tr>\n",
              "      <th>16</th>\n",
              "      <td>16</td>\n",
              "      <td>09-2011</td>\n",
              "      <td>467546</td>\n",
              "    </tr>\n",
              "    <tr>\n",
              "      <th>17</th>\n",
              "      <td>17</td>\n",
              "      <td>12-2011</td>\n",
              "      <td>470333</td>\n",
              "    </tr>\n",
              "    <tr>\n",
              "      <th>18</th>\n",
              "      <td>18</td>\n",
              "      <td>03-2012</td>\n",
              "      <td>470365</td>\n",
              "    </tr>\n",
              "    <tr>\n",
              "      <th>19</th>\n",
              "      <td>19</td>\n",
              "      <td>06-2012</td>\n",
              "      <td>469149</td>\n",
              "    </tr>\n",
              "    <tr>\n",
              "      <th>20</th>\n",
              "      <td>20</td>\n",
              "      <td>09-2012</td>\n",
              "      <td>465919</td>\n",
              "    </tr>\n",
              "    <tr>\n",
              "      <th>21</th>\n",
              "      <td>21</td>\n",
              "      <td>12-2012</td>\n",
              "      <td>463090</td>\n",
              "    </tr>\n",
              "    <tr>\n",
              "      <th>22</th>\n",
              "      <td>22</td>\n",
              "      <td>03-2013</td>\n",
              "      <td>451077</td>\n",
              "    </tr>\n",
              "    <tr>\n",
              "      <th>23</th>\n",
              "      <td>23</td>\n",
              "      <td>06-2013</td>\n",
              "      <td>451516</td>\n",
              "    </tr>\n",
              "    <tr>\n",
              "      <th>24</th>\n",
              "      <td>24</td>\n",
              "      <td>09-2013</td>\n",
              "      <td>454270</td>\n",
              "    </tr>\n",
              "    <tr>\n",
              "      <th>25</th>\n",
              "      <td>25</td>\n",
              "      <td>12-2013</td>\n",
              "      <td>456548</td>\n",
              "    </tr>\n",
              "    <tr>\n",
              "      <th>26</th>\n",
              "      <td>26</td>\n",
              "      <td>03-2014</td>\n",
              "      <td>469920</td>\n",
              "    </tr>\n",
              "    <tr>\n",
              "      <th>27</th>\n",
              "      <td>27</td>\n",
              "      <td>06-2014</td>\n",
              "      <td>472726</td>\n",
              "    </tr>\n",
              "    <tr>\n",
              "      <th>28</th>\n",
              "      <td>28</td>\n",
              "      <td>09-2014</td>\n",
              "      <td>475326</td>\n",
              "    </tr>\n",
              "    <tr>\n",
              "      <th>29</th>\n",
              "      <td>29</td>\n",
              "      <td>12-2014</td>\n",
              "      <td>478413</td>\n",
              "    </tr>\n",
              "    <tr>\n",
              "      <th>30</th>\n",
              "      <td>30</td>\n",
              "      <td>03-2015</td>\n",
              "      <td>478398</td>\n",
              "    </tr>\n",
              "    <tr>\n",
              "      <th>31</th>\n",
              "      <td>31</td>\n",
              "      <td>06-2015</td>\n",
              "      <td>477238</td>\n",
              "    </tr>\n",
              "    <tr>\n",
              "      <th>32</th>\n",
              "      <td>32</td>\n",
              "      <td>09-2015</td>\n",
              "      <td>477330</td>\n",
              "    </tr>\n",
              "    <tr>\n",
              "      <th>33</th>\n",
              "      <td>33</td>\n",
              "      <td>12-2015</td>\n",
              "      <td>479010</td>\n",
              "    </tr>\n",
              "    <tr>\n",
              "      <th>34</th>\n",
              "      <td>34</td>\n",
              "      <td>03-2016</td>\n",
              "      <td>482440</td>\n",
              "    </tr>\n",
              "    <tr>\n",
              "      <th>35</th>\n",
              "      <td>35</td>\n",
              "      <td>06-2016</td>\n",
              "      <td>486436</td>\n",
              "    </tr>\n",
              "    <tr>\n",
              "      <th>36</th>\n",
              "      <td>36</td>\n",
              "      <td>09-2016</td>\n",
              "      <td>489104</td>\n",
              "    </tr>\n",
              "    <tr>\n",
              "      <th>37</th>\n",
              "      <td>37</td>\n",
              "      <td>12-2016</td>\n",
              "      <td>491152</td>\n",
              "    </tr>\n",
              "    <tr>\n",
              "      <th>38</th>\n",
              "      <td>38</td>\n",
              "      <td>03-2017</td>\n",
              "      <td>494544</td>\n",
              "    </tr>\n",
              "    <tr>\n",
              "      <th>39</th>\n",
              "      <td>39</td>\n",
              "      <td>06-2017</td>\n",
              "      <td>498846</td>\n",
              "    </tr>\n",
              "    <tr>\n",
              "      <th>40</th>\n",
              "      <td>40</td>\n",
              "      <td>09-2017</td>\n",
              "      <td>504592</td>\n",
              "    </tr>\n",
              "    <tr>\n",
              "      <th>41</th>\n",
              "      <td>41</td>\n",
              "      <td>12-2017</td>\n",
              "      <td>506578</td>\n",
              "    </tr>\n",
              "    <tr>\n",
              "      <th>42</th>\n",
              "      <td>42</td>\n",
              "      <td>03-2018</td>\n",
              "      <td>507248</td>\n",
              "    </tr>\n",
              "    <tr>\n",
              "      <th>43</th>\n",
              "      <td>43</td>\n",
              "      <td>06-2018</td>\n",
              "      <td>506116</td>\n",
              "    </tr>\n",
              "    <tr>\n",
              "      <th>44</th>\n",
              "      <td>44</td>\n",
              "      <td>09-2018</td>\n",
              "      <td>504318</td>\n",
              "    </tr>\n",
              "    <tr>\n",
              "      <th>45</th>\n",
              "      <td>45</td>\n",
              "      <td>12-2018</td>\n",
              "      <td>506001</td>\n",
              "    </tr>\n",
              "    <tr>\n",
              "      <th>46</th>\n",
              "      <td>46</td>\n",
              "      <td>03-2019</td>\n",
              "      <td>496133</td>\n",
              "    </tr>\n",
              "    <tr>\n",
              "      <th>47</th>\n",
              "      <td>47</td>\n",
              "      <td>06-2019</td>\n",
              "      <td>500158</td>\n",
              "    </tr>\n",
              "    <tr>\n",
              "      <th>48</th>\n",
              "      <td>48</td>\n",
              "      <td>09-2019</td>\n",
              "      <td>510712</td>\n",
              "    </tr>\n",
              "  </tbody>\n",
              "</table>\n",
              "</div>"
            ],
            "text/plain": [
              "    index saledate      MA\n",
              "0       0  09-2007  441854\n",
              "1       1  12-2007  441854\n",
              "2       2  03-2008  441854\n",
              "3       3  06-2008  441854\n",
              "4       4  09-2008  451583\n",
              "5       5  12-2008  440256\n",
              "6       6  03-2009  442566\n",
              "7       7  06-2009  446113\n",
              "8       8  09-2009  440123\n",
              "9       9  12-2009  442131\n",
              "10     10  03-2010  459222\n",
              "11     11  06-2010  456822\n",
              "12     12  09-2010  457806\n",
              "13     13  12-2010  459109\n",
              "14     14  03-2011  460758\n",
              "15     15  06-2011  464788\n",
              "16     16  09-2011  467546\n",
              "17     17  12-2011  470333\n",
              "18     18  03-2012  470365\n",
              "19     19  06-2012  469149\n",
              "20     20  09-2012  465919\n",
              "21     21  12-2012  463090\n",
              "22     22  03-2013  451077\n",
              "23     23  06-2013  451516\n",
              "24     24  09-2013  454270\n",
              "25     25  12-2013  456548\n",
              "26     26  03-2014  469920\n",
              "27     27  06-2014  472726\n",
              "28     28  09-2014  475326\n",
              "29     29  12-2014  478413\n",
              "30     30  03-2015  478398\n",
              "31     31  06-2015  477238\n",
              "32     32  09-2015  477330\n",
              "33     33  12-2015  479010\n",
              "34     34  03-2016  482440\n",
              "35     35  06-2016  486436\n",
              "36     36  09-2016  489104\n",
              "37     37  12-2016  491152\n",
              "38     38  03-2017  494544\n",
              "39     39  06-2017  498846\n",
              "40     40  09-2017  504592\n",
              "41     41  12-2017  506578\n",
              "42     42  03-2018  507248\n",
              "43     43  06-2018  506116\n",
              "44     44  09-2018  504318\n",
              "45     45  12-2018  506001\n",
              "46     46  03-2019  496133\n",
              "47     47  06-2019  500158\n",
              "48     48  09-2019  510712"
            ]
          },
          "metadata": {
            "tags": []
          },
          "execution_count": 40
        }
      ]
    },
    {
      "cell_type": "code",
      "metadata": {
        "scrolled": true,
        "id": "38dtTQgNVRIt",
        "outputId": "2661f413-9707-46a2-c8c2-5418ad957f99"
      },
      "source": [
        "data1.set_index('saledate',inplace = True)\n",
        "data1.drop(columns='index', axis = 1, inplace = True)"
      ],
      "execution_count": null,
      "outputs": [
        {
          "output_type": "stream",
          "text": [
            "C:\\Users\\HP\\anaconda3\\lib\\site-packages\\pandas\\core\\frame.py:4163: SettingWithCopyWarning: \n",
            "A value is trying to be set on a copy of a slice from a DataFrame\n",
            "\n",
            "See the caveats in the documentation: https://pandas.pydata.org/pandas-docs/stable/user_guide/indexing.html#returning-a-view-versus-a-copy\n",
            "  return super().drop(\n"
          ],
          "name": "stderr"
        }
      ]
    },
    {
      "cell_type": "code",
      "metadata": {
        "id": "78OHnxFVVRIt",
        "outputId": "dd848499-1075-4320-e3fd-f362ae7bbbb1"
      },
      "source": [
        "data1.head()"
      ],
      "execution_count": null,
      "outputs": [
        {
          "output_type": "execute_result",
          "data": {
            "text/html": [
              "<div>\n",
              "<style scoped>\n",
              "    .dataframe tbody tr th:only-of-type {\n",
              "        vertical-align: middle;\n",
              "    }\n",
              "\n",
              "    .dataframe tbody tr th {\n",
              "        vertical-align: top;\n",
              "    }\n",
              "\n",
              "    .dataframe thead th {\n",
              "        text-align: right;\n",
              "    }\n",
              "</style>\n",
              "<table border=\"1\" class=\"dataframe\">\n",
              "  <thead>\n",
              "    <tr style=\"text-align: right;\">\n",
              "      <th></th>\n",
              "      <th>MA</th>\n",
              "    </tr>\n",
              "    <tr>\n",
              "      <th>saledate</th>\n",
              "      <th></th>\n",
              "    </tr>\n",
              "  </thead>\n",
              "  <tbody>\n",
              "    <tr>\n",
              "      <th>09-2007</th>\n",
              "      <td>441854</td>\n",
              "    </tr>\n",
              "    <tr>\n",
              "      <th>12-2007</th>\n",
              "      <td>441854</td>\n",
              "    </tr>\n",
              "    <tr>\n",
              "      <th>03-2008</th>\n",
              "      <td>441854</td>\n",
              "    </tr>\n",
              "    <tr>\n",
              "      <th>06-2008</th>\n",
              "      <td>441854</td>\n",
              "    </tr>\n",
              "    <tr>\n",
              "      <th>09-2008</th>\n",
              "      <td>451583</td>\n",
              "    </tr>\n",
              "  </tbody>\n",
              "</table>\n",
              "</div>"
            ],
            "text/plain": [
              "              MA\n",
              "saledate        \n",
              "09-2007   441854\n",
              "12-2007   441854\n",
              "03-2008   441854\n",
              "06-2008   441854\n",
              "09-2008   451583"
            ]
          },
          "metadata": {
            "tags": []
          },
          "execution_count": 42
        }
      ]
    },
    {
      "cell_type": "code",
      "metadata": {
        "id": "npB1gq5yVRIu"
      },
      "source": [
        "#Split the data into train and test\n",
        "train = data1[:int(0.9*(len(df_median)))]\n",
        "test = data1[int(0.9*(len(df_median))):]"
      ],
      "execution_count": null,
      "outputs": []
    },
    {
      "cell_type": "code",
      "metadata": {
        "id": "WjoUXO70VRIu",
        "outputId": "8bc447ff-bfc6-4bae-ddd0-28fc94469fec"
      },
      "source": [
        "test"
      ],
      "execution_count": null,
      "outputs": [
        {
          "output_type": "execute_result",
          "data": {
            "text/html": [
              "<div>\n",
              "<style scoped>\n",
              "    .dataframe tbody tr th:only-of-type {\n",
              "        vertical-align: middle;\n",
              "    }\n",
              "\n",
              "    .dataframe tbody tr th {\n",
              "        vertical-align: top;\n",
              "    }\n",
              "\n",
              "    .dataframe thead th {\n",
              "        text-align: right;\n",
              "    }\n",
              "</style>\n",
              "<table border=\"1\" class=\"dataframe\">\n",
              "  <thead>\n",
              "    <tr style=\"text-align: right;\">\n",
              "      <th></th>\n",
              "      <th>MA</th>\n",
              "    </tr>\n",
              "    <tr>\n",
              "      <th>saledate</th>\n",
              "      <th></th>\n",
              "    </tr>\n",
              "  </thead>\n",
              "  <tbody>\n",
              "    <tr>\n",
              "      <th>12-2018</th>\n",
              "      <td>506001</td>\n",
              "    </tr>\n",
              "    <tr>\n",
              "      <th>03-2019</th>\n",
              "      <td>496133</td>\n",
              "    </tr>\n",
              "    <tr>\n",
              "      <th>06-2019</th>\n",
              "      <td>500158</td>\n",
              "    </tr>\n",
              "    <tr>\n",
              "      <th>09-2019</th>\n",
              "      <td>510712</td>\n",
              "    </tr>\n",
              "  </tbody>\n",
              "</table>\n",
              "</div>"
            ],
            "text/plain": [
              "              MA\n",
              "saledate        \n",
              "12-2018   506001\n",
              "03-2019   496133\n",
              "06-2019   500158\n",
              "09-2019   510712"
            ]
          },
          "metadata": {
            "tags": []
          },
          "execution_count": 44
        }
      ]
    },
    {
      "cell_type": "code",
      "metadata": {
        "id": "2KTXcSwSVRIv",
        "outputId": "7d6e1d2c-8296-4972-a6ba-4c611ff56e84"
      },
      "source": [
        "data1.plot(kind=\"line\",figsize=(15,5), grid = 1)\n",
        "plt.show()"
      ],
      "execution_count": null,
      "outputs": [
        {
          "output_type": "display_data",
          "data": {
            "image/png": "[encoded data removed]",
            "text/plain": [
              "<Figure size 1080x360 with 1 Axes>"
            ]
          },
          "metadata": {
            "tags": [],
            "needs_background": "light"
          }
        }
      ]
    },
    {
      "cell_type": "markdown",
      "metadata": {
        "id": "GFalj8n7VRIv"
      },
      "source": [
        "No seasonality present.\n",
        "Thus we shall be using the ARIMA model for this data."
      ]
    },
    {
      "cell_type": "code",
      "metadata": {
        "scrolled": true,
        "id": "r7f-eFnWVRIv",
        "outputId": "797cf1c3-af88-492b-8547-c835ec9464e2"
      },
      "source": [
        "moving_avg =data1['MA'].rolling(12).mean()\n",
        "data1.plot(kind=\"line\",figsize=(15,5))\n",
        "moving_avg.plot(kind=\"line\",figsize=(15,5),color='red')\n",
        "plt.show()"
      ],
      "execution_count": null,
      "outputs": [
        {
          "output_type": "display_data",
          "data": {
            "image/png": "[encoded data removed]",
            "text/plain": [
              "<Figure size 1080x360 with 1 Axes>"
            ]
          },
          "metadata": {
            "tags": [],
            "needs_background": "light"
          }
        }
      ]
    },
    {
      "cell_type": "markdown",
      "metadata": {
        "id": "qfgKtF-CVRIw"
      },
      "source": [
        "Rolling averages depict the upward trend."
      ]
    },
    {
      "cell_type": "code",
      "metadata": {
        "id": "M-NhtvLKVRIw"
      },
      "source": [
        "# Testing the stationarity of the data using dickey fuller test\n",
        "\n",
        "from statsmodels.tsa.stattools import adfuller"
      ],
      "execution_count": null,
      "outputs": []
    },
    {
      "cell_type": "code",
      "metadata": {
        "id": "sBsW--Q2VRIw"
      },
      "source": [
        "test_result = adfuller(data1['MA'])"
      ],
      "execution_count": null,
      "outputs": []
    },
    {
      "cell_type": "code",
      "metadata": {
        "id": "7rY9e2L7VRIw"
      },
      "source": [
        "#Ho: Data is not stationary\n",
        "#H1: Data is stationary\n",
        "\n",
        "def adfuller_test(ma):\n",
        "    result = adfuller(ma)\n",
        "    labels = ['ADF Test Statistics', 'P-value', '#Lags Used', 'Number of Observation Used']\n",
        "    for value,label in zip(result,labels):\n",
        "        print(label+' : '+str(value))\n",
        "    if result[1] <= 0.05:\n",
        "        print('Data is stationary')\n",
        "    else:\n",
        "        print('Not enough evidence to say that data is stationary')"
      ],
      "execution_count": null,
      "outputs": []
    },
    {
      "cell_type": "code",
      "metadata": {
        "id": "lTmFPePnVRIx",
        "outputId": "64ea6b21-0666-45b0-d309-284b200e5970"
      },
      "source": [
        "adfuller_test(data1['MA'])"
      ],
      "execution_count": null,
      "outputs": [
        {
          "output_type": "stream",
          "text": [
            "ADF Test Statistics : -0.41620726586450985\n",
            "P-value : 0.9073573726399371\n",
            "#Lags Used : 1\n",
            "Number of Observation Used : 47\n",
            "Not enough evidence to say that data is stationary\n"
          ],
          "name": "stdout"
        }
      ]
    },
    {
      "cell_type": "code",
      "metadata": {
        "id": "VnXe40uqVRIx",
        "outputId": "2965a5e0-0395-4dff-87a3-28c3c3ffd6ce"
      },
      "source": [
        "df_difference = data1.copy()\n",
        "df_difference['seasonal_first_difference'] = df_difference['MA'] - df_difference['MA'].shift(4)\n",
        "df_difference.head(15)"
      ],
      "execution_count": null,
      "outputs": [
        {
          "output_type": "execute_result",
          "data": {
            "text/html": [
              "<div>\n",
              "<style scoped>\n",
              "    .dataframe tbody tr th:only-of-type {\n",
              "        vertical-align: middle;\n",
              "    }\n",
              "\n",
              "    .dataframe tbody tr th {\n",
              "        vertical-align: top;\n",
              "    }\n",
              "\n",
              "    .dataframe thead th {\n",
              "        text-align: right;\n",
              "    }\n",
              "</style>\n",
              "<table border=\"1\" class=\"dataframe\">\n",
              "  <thead>\n",
              "    <tr style=\"text-align: right;\">\n",
              "      <th></th>\n",
              "      <th>MA</th>\n",
              "      <th>seasonal_first_difference</th>\n",
              "    </tr>\n",
              "    <tr>\n",
              "      <th>saledate</th>\n",
              "      <th></th>\n",
              "      <th></th>\n",
              "    </tr>\n",
              "  </thead>\n",
              "  <tbody>\n",
              "    <tr>\n",
              "      <th>09-2007</th>\n",
              "      <td>441854</td>\n",
              "      <td>NaN</td>\n",
              "    </tr>\n",
              "    <tr>\n",
              "      <th>12-2007</th>\n",
              "      <td>441854</td>\n",
              "      <td>NaN</td>\n",
              "    </tr>\n",
              "    <tr>\n",
              "      <th>03-2008</th>\n",
              "      <td>441854</td>\n",
              "      <td>NaN</td>\n",
              "    </tr>\n",
              "    <tr>\n",
              "      <th>06-2008</th>\n",
              "      <td>441854</td>\n",
              "      <td>NaN</td>\n",
              "    </tr>\n",
              "    <tr>\n",
              "      <th>09-2008</th>\n",
              "      <td>451583</td>\n",
              "      <td>9729.0</td>\n",
              "    </tr>\n",
              "    <tr>\n",
              "      <th>12-2008</th>\n",
              "      <td>440256</td>\n",
              "      <td>-1598.0</td>\n",
              "    </tr>\n",
              "    <tr>\n",
              "      <th>03-2009</th>\n",
              "      <td>442566</td>\n",
              "      <td>712.0</td>\n",
              "    </tr>\n",
              "    <tr>\n",
              "      <th>06-2009</th>\n",
              "      <td>446113</td>\n",
              "      <td>4259.0</td>\n",
              "    </tr>\n",
              "    <tr>\n",
              "      <th>09-2009</th>\n",
              "      <td>440123</td>\n",
              "      <td>-11460.0</td>\n",
              "    </tr>\n",
              "    <tr>\n",
              "      <th>12-2009</th>\n",
              "      <td>442131</td>\n",
              "      <td>1875.0</td>\n",
              "    </tr>\n",
              "    <tr>\n",
              "      <th>03-2010</th>\n",
              "      <td>459222</td>\n",
              "      <td>16656.0</td>\n",
              "    </tr>\n",
              "    <tr>\n",
              "      <th>06-2010</th>\n",
              "      <td>456822</td>\n",
              "      <td>10709.0</td>\n",
              "    </tr>\n",
              "    <tr>\n",
              "      <th>09-2010</th>\n",
              "      <td>457806</td>\n",
              "      <td>17683.0</td>\n",
              "    </tr>\n",
              "    <tr>\n",
              "      <th>12-2010</th>\n",
              "      <td>459109</td>\n",
              "      <td>16978.0</td>\n",
              "    </tr>\n",
              "    <tr>\n",
              "      <th>03-2011</th>\n",
              "      <td>460758</td>\n",
              "      <td>1536.0</td>\n",
              "    </tr>\n",
              "  </tbody>\n",
              "</table>\n",
              "</div>"
            ],
            "text/plain": [
              "              MA  seasonal_first_difference\n",
              "saledate                                   \n",
              "09-2007   441854                        NaN\n",
              "12-2007   441854                        NaN\n",
              "03-2008   441854                        NaN\n",
              "06-2008   441854                        NaN\n",
              "09-2008   451583                     9729.0\n",
              "12-2008   440256                    -1598.0\n",
              "03-2009   442566                      712.0\n",
              "06-2009   446113                     4259.0\n",
              "09-2009   440123                   -11460.0\n",
              "12-2009   442131                     1875.0\n",
              "03-2010   459222                    16656.0\n",
              "06-2010   456822                    10709.0\n",
              "09-2010   457806                    17683.0\n",
              "12-2010   459109                    16978.0\n",
              "03-2011   460758                     1536.0"
            ]
          },
          "metadata": {
            "tags": []
          },
          "execution_count": 55
        }
      ]
    },
    {
      "cell_type": "code",
      "metadata": {
        "id": "q3uZxqOvVRIy",
        "outputId": "7a23be43-7da1-4a93-9d14-0b31395160e5"
      },
      "source": [
        "adfuller_test(df_difference['seasonal_first_difference'].dropna())"
      ],
      "execution_count": null,
      "outputs": [
        {
          "output_type": "stream",
          "text": [
            "ADF Test Statistics : -2.979424042153941\n",
            "P-value : 0.036861128785506354\n",
            "#Lags Used : 4\n",
            "Number of Observation Used : 40\n",
            "Data is stationary\n"
          ],
          "name": "stdout"
        }
      ]
    },
    {
      "cell_type": "code",
      "metadata": {
        "scrolled": false,
        "id": "kP2M8NFNVRIy",
        "outputId": "3dc564ff-c4f2-4bb1-be37-83063b90867b"
      },
      "source": [
        "df_difference['seasonal_first_difference'].plot()"
      ],
      "execution_count": null,
      "outputs": [
        {
          "output_type": "execute_result",
          "data": {
            "text/plain": [
              "<AxesSubplot:xlabel='saledate'>"
            ]
          },
          "metadata": {
            "tags": []
          },
          "execution_count": 57
        },
        {
          "output_type": "display_data",
          "data": {
            "image/png": "[encoded data removed]",
            "text/plain": [
              "<Figure size 1080x432 with 1 Axes>"
            ]
          },
          "metadata": {
            "tags": [],
            "needs_background": "light"
          }
        }
      ]
    },
    {
      "cell_type": "code",
      "metadata": {
        "id": "HnJ3VZ_cVRIy"
      },
      "source": [
        "# selecting the value of p,d,q\n",
        "import statsmodels as sm\n",
        "from statsmodels.graphics.tsaplots import plot_acf,plot_pacf"
      ],
      "execution_count": null,
      "outputs": []
    },
    {
      "cell_type": "code",
      "metadata": {
        "id": "cjumqnxoVRIz",
        "outputId": "6ec5cf76-91e6-4259-9c7b-7f0ec02aa66a"
      },
      "source": [
        "fig = plt.figure(figsize = (12,8))\n",
        "ax1 = fig.add_subplot(211)\n",
        "fig = sm.graphics.tsaplots.plot_acf(df_difference['seasonal_first_difference'].iloc[13:], lags= 15, ax=ax1)\n",
        "ax2 = fig.add_subplot(212)\n",
        "fig = sm.graphics.tsaplots.plot_pacf(df_difference['seasonal_first_difference'].iloc[13:], lags= 15, ax=ax2)"
      ],
      "execution_count": null,
      "outputs": [
        {
          "output_type": "stream",
          "text": [
            "C:\\Users\\HP\\anaconda3\\lib\\site-packages\\statsmodels\\regression\\linear_model.py:1434: RuntimeWarning: invalid value encountered in sqrt\n",
            "  return rho, np.sqrt(sigmasq)\n"
          ],
          "name": "stderr"
        },
        {
          "output_type": "display_data",
          "data": {
            "image/png": "[encoded data removed]",
            "text/plain": [
              "<Figure size 864x576 with 2 Axes>"
            ]
          },
          "metadata": {
            "tags": [],
            "needs_background": "light"
          }
        }
      ]
    },
    {
      "cell_type": "markdown",
      "metadata": {
        "id": "8h_8dofdVRIz"
      },
      "source": [
        "p = 2\n",
        "\n",
        "q = 3\n",
        "\n",
        "d = 1 (as we did seasonal differecing only once)"
      ]
    },
    {
      "cell_type": "code",
      "metadata": {
        "id": "yWa2wk6kVRIz"
      },
      "source": [
        "from statsmodels.tsa.arima_model import ARIMA"
      ],
      "execution_count": null,
      "outputs": []
    },
    {
      "cell_type": "code",
      "metadata": {
        "id": "LT4oaYjyVRI0",
        "outputId": "d6d8aa70-f1a5-46fe-e65b-9c5cdeb7c491"
      },
      "source": [
        "model2 = ARIMA(train, order=(2,1,3))\n",
        "model2_fit=model2.fit(disp=True)\n",
        "print(model2_fit.summary())"
      ],
      "execution_count": null,
      "outputs": [
        {
          "output_type": "stream",
          "text": [
            "C:\\Users\\HP\\anaconda3\\lib\\site-packages\\statsmodels\\tsa\\arima_model.py:472: FutureWarning: \n",
            "statsmodels.tsa.arima_model.ARMA and statsmodels.tsa.arima_model.ARIMA have\n",
            "been deprecated in favor of statsmodels.tsa.arima.model.ARIMA (note the .\n",
            "between arima and model) and\n",
            "statsmodels.tsa.SARIMAX. These will be removed after the 0.12 release.\n",
            "\n",
            "statsmodels.tsa.arima.model.ARIMA makes use of the statespace framework and\n",
            "is both well tested and maintained.\n",
            "\n",
            "To silence this warning and continue using ARMA and ARIMA until they are\n",
            "removed, use:\n",
            "\n",
            "import warnings\n",
            "warnings.filterwarnings('ignore', 'statsmodels.tsa.arima_model.ARMA',\n",
            "                        FutureWarning)\n",
            "warnings.filterwarnings('ignore', 'statsmodels.tsa.arima_model.ARIMA',\n",
            "                        FutureWarning)\n",
            "\n",
            "  warnings.warn(ARIMA_DEPRECATION_WARN, FutureWarning)\n",
            "C:\\Users\\HP\\anaconda3\\lib\\site-packages\\statsmodels\\tsa\\base\\tsa_model.py:524: ValueWarning: No frequency information was provided, so inferred frequency QS-DEC will be used.\n",
            "  warnings.warn('No frequency information was'\n",
            "C:\\Users\\HP\\anaconda3\\lib\\site-packages\\statsmodels\\tsa\\base\\tsa_model.py:524: ValueWarning: No frequency information was provided, so inferred frequency QS-DEC will be used.\n",
            "  warnings.warn('No frequency information was'\n"
          ],
          "name": "stderr"
        },
        {
          "output_type": "stream",
          "text": [
            "                             ARIMA Model Results                              \n",
            "==============================================================================\n",
            "Dep. Variable:                   D.MA   No. Observations:                   44\n",
            "Model:                 ARIMA(2, 1, 3)   Log Likelihood                -431.915\n",
            "Method:                       css-mle   S.D. of innovations           4227.634\n",
            "Date:                Thu, 29 Apr 2021   AIC                            877.830\n",
            "Time:                        10:26:19   BIC                            890.319\n",
            "Sample:                    12-01-2007   HQIC                           882.461\n",
            "                         - 09-01-2018                                         \n",
            "==============================================================================\n",
            "                 coef    std err          z      P>|z|      [0.025      0.975]\n",
            "------------------------------------------------------------------------------\n",
            "const       1466.7406    850.062      1.725      0.084    -199.350    3132.832\n",
            "ar.L1.D.MA    -0.1881      0.204     -0.922      0.356      -0.588       0.212\n",
            "ar.L2.D.MA    -0.6788      0.147     -4.621      0.000      -0.967      -0.391\n",
            "ma.L1.D.MA     0.2138      0.237      0.902      0.367      -0.251       0.678\n",
            "ma.L2.D.MA     0.9571        nan        nan        nan         nan         nan\n",
            "ma.L3.D.MA     0.3399      0.145      2.341      0.019       0.055       0.625\n",
            "                                    Roots                                    \n",
            "=============================================================================\n",
            "                  Real          Imaginary           Modulus         Frequency\n",
            "-----------------------------------------------------------------------------\n",
            "AR.1           -0.1386           -1.2058j            1.2138           -0.2682\n",
            "AR.2           -0.1386           +1.2058j            1.2138            0.2682\n",
            "MA.1            0.0631           -0.9980j            1.0000           -0.2400\n",
            "MA.2            0.0631           +0.9980j            1.0000            0.2400\n",
            "MA.3           -2.9416           -0.0000j            2.9416           -0.5000\n",
            "-----------------------------------------------------------------------------\n"
          ],
          "name": "stdout"
        },
        {
          "output_type": "stream",
          "text": [
            "C:\\Users\\HP\\anaconda3\\lib\\site-packages\\statsmodels\\base\\model.py:547: HessianInversionWarning: Inverting hessian failed, no bse or cov_params available\n",
            "  warnings.warn('Inverting hessian failed, no bse or cov_params '\n",
            "C:\\Users\\HP\\anaconda3\\lib\\site-packages\\statsmodels\\tsa\\arima_model.py:472: FutureWarning: \n",
            "statsmodels.tsa.arima_model.ARMA and statsmodels.tsa.arima_model.ARIMA have\n",
            "been deprecated in favor of statsmodels.tsa.arima.model.ARIMA (note the .\n",
            "between arima and model) and\n",
            "statsmodels.tsa.SARIMAX. These will be removed after the 0.12 release.\n",
            "\n",
            "statsmodels.tsa.arima.model.ARIMA makes use of the statespace framework and\n",
            "is both well tested and maintained.\n",
            "\n",
            "To silence this warning and continue using ARMA and ARIMA until they are\n",
            "removed, use:\n",
            "\n",
            "import warnings\n",
            "warnings.filterwarnings('ignore', 'statsmodels.tsa.arima_model.ARMA',\n",
            "                        FutureWarning)\n",
            "warnings.filterwarnings('ignore', 'statsmodels.tsa.arima_model.ARIMA',\n",
            "                        FutureWarning)\n",
            "\n",
            "  warnings.warn(ARIMA_DEPRECATION_WARN, FutureWarning)\n",
            "C:\\Users\\HP\\anaconda3\\lib\\site-packages\\statsmodels\\tsa\\arima_model.py:1521: RuntimeWarning: invalid value encountered in sqrt\n",
            "  return np.sqrt(np.diag(-inv(hess)))\n"
          ],
          "name": "stderr"
        }
      ]
    },
    {
      "cell_type": "code",
      "metadata": {
        "id": "454O02P4VRI1",
        "outputId": "91478e01-2d6f-4dcd-d13a-b2ad7cc39873"
      },
      "source": [
        "forecast2 = model2_fit.forecast(steps=4)[0]\n",
        "forecast2 = pd.DataFrame(forecast2, index = test.index,columns=['Prediction'])\n",
        "plt.plot(train, label= 'Train')\n",
        "plt.plot(test, label= 'Test')\n",
        "plt.xticks(rotation=45)\n",
        "plt.plot(forecast2, label= 'Prediction', color='black')\n",
        "plt.legend(['Train', 'Test', 'Predicted'])\n",
        "plt.show()"
      ],
      "execution_count": null,
      "outputs": [
        {
          "output_type": "display_data",
          "data": {
            "image/png": "[encoded data removed]",
            "text/plain": [
              "<Figure size 1080x432 with 1 Axes>"
            ]
          },
          "metadata": {
            "tags": [],
            "needs_background": "light"
          }
        }
      ]
    },
    {
      "cell_type": "code",
      "metadata": {
        "id": "7hDc_P0HVRI1",
        "outputId": "e0d04369-0097-4a2d-dfb7-3c259ef62465"
      },
      "source": [
        "MAE_ARIMA = mean_absolute_error(y_true=test,y_pred=forecast2)\n",
        "MAE_ARIMA"
      ],
      "execution_count": null,
      "outputs": [
        {
          "output_type": "execute_result",
          "data": {
            "text/plain": [
              "5336.526670849053"
            ]
          },
          "metadata": {
            "tags": []
          },
          "execution_count": 65
        }
      ]
    },
    {
      "cell_type": "code",
      "metadata": {
        "id": "h_NWHLrKVRI2"
      },
      "source": [
        "from statsmodels.tsa.api import ExponentialSmoothing, SimpleExpSmoothing, Holt"
      ],
      "execution_count": null,
      "outputs": []
    },
    {
      "cell_type": "code",
      "metadata": {
        "id": "Jb-VwLe_VRI3",
        "outputId": "24ea3baa-8d5b-4eef-dd2a-d9447bf29ebe"
      },
      "source": [
        "ses = SimpleExpSmoothing(train).fit()\n",
        "ses1 = ses.forecast(4)\n",
        "ses.summary()"
      ],
      "execution_count": null,
      "outputs": [
        {
          "output_type": "stream",
          "text": [
            "C:\\Users\\HP\\anaconda3\\lib\\site-packages\\statsmodels\\tsa\\base\\tsa_model.py:524: ValueWarning: No frequency information was provided, so inferred frequency QS-DEC will be used.\n",
            "  warnings.warn('No frequency information was'\n",
            "C:\\Users\\HP\\anaconda3\\lib\\site-packages\\statsmodels\\tsa\\holtwinters\\model.py:427: FutureWarning: After 0.13 initialization must be handled at model creation\n",
            "  warnings.warn(\n",
            "C:\\Users\\HP\\anaconda3\\lib\\site-packages\\statsmodels\\tsa\\holtwinters\\model.py:920: ConvergenceWarning: Optimization failed to converge. Check mle_retvals.\n",
            "  warnings.warn(\n"
          ],
          "name": "stderr"
        },
        {
          "output_type": "execute_result",
          "data": {
            "text/html": [
              "<table class=\"simpletable\">\n",
              "<caption>SimpleExpSmoothing Model Results</caption>\n",
              "<tr>\n",
              "  <th>Dep. Variable:</th>            <td>MA</td>         <th>  No. Observations:  </th>        <td>45</td>       \n",
              "</tr>\n",
              "<tr>\n",
              "  <th>Model:</th>            <td>SimpleExpSmoothing</td> <th>  SSE                </th>  <td>1111872794.530</td> \n",
              "</tr>\n",
              "<tr>\n",
              "  <th>Optimized:</th>               <td>True</td>        <th>  AIC                </th>      <td>770.019</td>    \n",
              "</tr>\n",
              "<tr>\n",
              "  <th>Trend:</th>                   <td>None</td>        <th>  BIC                </th>      <td>773.633</td>    \n",
              "</tr>\n",
              "<tr>\n",
              "  <th>Seasonal:</th>                <td>None</td>        <th>  AICC               </th>      <td>771.019</td>    \n",
              "</tr>\n",
              "<tr>\n",
              "  <th>Seasonal Periods:</th>        <td>None</td>        <th>  Date:              </th> <td>Thu, 29 Apr 2021</td>\n",
              "</tr>\n",
              "<tr>\n",
              "  <th>Box-Cox:</th>                 <td>False</td>       <th>  Time:              </th>     <td>10:27:42</td>    \n",
              "</tr>\n",
              "<tr>\n",
              "  <th>Box-Cox Coeff.:</th>          <td>None</td>        <th>                     </th>         <td> </td>       \n",
              "</tr>\n",
              "</table>\n",
              "<table class=\"simpletable\">\n",
              "<tr>\n",
              "         <td></td>                 <th>coeff</th>                <th>code</th>               <th>optimized</th>     \n",
              "</tr>\n",
              "<tr>\n",
              "  <th>smoothing_level</th> <td>           0.9950000</td> <td>               alpha</td> <td>                True</td>\n",
              "</tr>\n",
              "<tr>\n",
              "  <th>initial_level</th>   <td>          4.4185e+05</td> <td>                 l.0</td> <td>                True</td>\n",
              "</tr>\n",
              "</table>"
            ],
            "text/plain": [
              "<class 'statsmodels.iolib.summary.Summary'>\n",
              "\"\"\"\n",
              "                       SimpleExpSmoothing Model Results                       \n",
              "==============================================================================\n",
              "Dep. Variable:                     MA   No. Observations:                   45\n",
              "Model:             SimpleExpSmoothing   SSE                     1111872794.530\n",
              "Optimized:                       True   AIC                            770.019\n",
              "Trend:                           None   BIC                            773.633\n",
              "Seasonal:                        None   AICC                           771.019\n",
              "Seasonal Periods:                None   Date:                 Thu, 29 Apr 2021\n",
              "Box-Cox:                        False   Time:                         10:27:42\n",
              "Box-Cox Coeff.:                  None                                         \n",
              "==============================================================================\n",
              "                       coeff                 code              optimized      \n",
              "------------------------------------------------------------------------------\n",
              "smoothing_level            0.9950000                alpha                 True\n",
              "initial_level             4.4185e+05                  l.0                 True\n",
              "------------------------------------------------------------------------------\n",
              "\"\"\""
            ]
          },
          "metadata": {
            "tags": []
          },
          "execution_count": 67
        }
      ]
    },
    {
      "cell_type": "code",
      "metadata": {
        "id": "vasadnnLVRI3"
      },
      "source": [
        "ses1_df = pd.DataFrame(ses1)\n",
        "ses1_df = ses1_df.reset_index()"
      ],
      "execution_count": null,
      "outputs": []
    },
    {
      "cell_type": "code",
      "metadata": {
        "id": "XneYXQi_VRI4"
      },
      "source": [
        "ses1_df = ses1_df.rename(columns={'index':'saledate', 0:'Predicted_MA'} )"
      ],
      "execution_count": null,
      "outputs": []
    },
    {
      "cell_type": "code",
      "metadata": {
        "id": "P3NIzC6VVRI4",
        "outputId": "c9068fdf-13d1-42be-fafa-de17cfd791fa"
      },
      "source": [
        "ses1_df"
      ],
      "execution_count": null,
      "outputs": [
        {
          "output_type": "execute_result",
          "data": {
            "text/html": [
              "<div>\n",
              "<style scoped>\n",
              "    .dataframe tbody tr th:only-of-type {\n",
              "        vertical-align: middle;\n",
              "    }\n",
              "\n",
              "    .dataframe tbody tr th {\n",
              "        vertical-align: top;\n",
              "    }\n",
              "\n",
              "    .dataframe thead th {\n",
              "        text-align: right;\n",
              "    }\n",
              "</style>\n",
              "<table border=\"1\" class=\"dataframe\">\n",
              "  <thead>\n",
              "    <tr style=\"text-align: right;\">\n",
              "      <th></th>\n",
              "      <th>saledate</th>\n",
              "      <th>Predicted_MA</th>\n",
              "    </tr>\n",
              "  </thead>\n",
              "  <tbody>\n",
              "    <tr>\n",
              "      <th>0</th>\n",
              "      <td>2018-12-01</td>\n",
              "      <td>504327.018215</td>\n",
              "    </tr>\n",
              "    <tr>\n",
              "      <th>1</th>\n",
              "      <td>2019-03-01</td>\n",
              "      <td>504327.018215</td>\n",
              "    </tr>\n",
              "    <tr>\n",
              "      <th>2</th>\n",
              "      <td>2019-06-01</td>\n",
              "      <td>504327.018215</td>\n",
              "    </tr>\n",
              "    <tr>\n",
              "      <th>3</th>\n",
              "      <td>2019-09-01</td>\n",
              "      <td>504327.018215</td>\n",
              "    </tr>\n",
              "  </tbody>\n",
              "</table>\n",
              "</div>"
            ],
            "text/plain": [
              "    saledate   Predicted_MA\n",
              "0 2018-12-01  504327.018215\n",
              "1 2019-03-01  504327.018215\n",
              "2 2019-06-01  504327.018215\n",
              "3 2019-09-01  504327.018215"
            ]
          },
          "metadata": {
            "tags": []
          },
          "execution_count": 70
        }
      ]
    },
    {
      "cell_type": "code",
      "metadata": {
        "id": "Tg1GxSiiVRI5",
        "outputId": "86abdcb6-05d1-4ea1-a335-b6af2d1c9987"
      },
      "source": [
        "ses1_df['saledate'] = ses1_df['saledate'].astype(str)\n",
        "\n",
        "for i in range(len(ses1_df['saledate'])):\n",
        "    ses1_df['saledate'].loc[i] = datetime.strftime(datetime.strptime(ses1_df['saledate'].loc[i], '%Y-%m-%d'), '%m-%Y')\n",
        "ses1_df.set_index('saledate', inplace = True)"
      ],
      "execution_count": null,
      "outputs": [
        {
          "output_type": "stream",
          "text": [
            "C:\\Users\\HP\\anaconda3\\lib\\site-packages\\pandas\\core\\indexing.py:670: SettingWithCopyWarning: \n",
            "A value is trying to be set on a copy of a slice from a DataFrame\n",
            "\n",
            "See the caveats in the documentation: https://pandas.pydata.org/pandas-docs/stable/user_guide/indexing.html#returning-a-view-versus-a-copy\n",
            "  iloc._setitem_with_indexer(indexer, value)\n"
          ],
          "name": "stderr"
        }
      ]
    },
    {
      "cell_type": "code",
      "metadata": {
        "id": "R066wDLgVRI6",
        "outputId": "eb1c981a-9482-446c-8856-efa424b57cb0"
      },
      "source": [
        "plt.plot(train, label='Train')\n",
        "plt.plot(test, label='Test')\n",
        "plt.plot(ses1_df, label='Prediction', color='black')\n",
        "plt.xticks(rotation=45)\n",
        "plt.legend(['Train', 'Test', 'Predicted'])\n",
        "plt.show()"
      ],
      "execution_count": null,
      "outputs": [
        {
          "output_type": "display_data",
          "data": {
            "image/png": "[encoded data removed]",
            "text/plain": [
              "<Figure size 1080x432 with 1 Axes>"
            ]
          },
          "metadata": {
            "tags": [],
            "needs_background": "light"
          }
        }
      ]
    },
    {
      "cell_type": "code",
      "metadata": {
        "id": "TMASYeZUVRI6",
        "outputId": "905c2f39-392c-4733-93e6-1dba03239d9d"
      },
      "source": [
        "MAE_SES = mean_absolute_error(y_true=test,y_pred=ses1_df)\n",
        "MAE_SES"
      ],
      "execution_count": null,
      "outputs": [
        {
          "output_type": "execute_result",
          "data": {
            "text/plain": [
              "5105.5"
            ]
          },
          "metadata": {
            "tags": []
          },
          "execution_count": 73
        }
      ]
    },
    {
      "cell_type": "code",
      "metadata": {
        "id": "BaycJgyvVRI6",
        "outputId": "0c48750b-ee45-453d-a46a-727465225952"
      },
      "source": [
        "print('ARIMA  --->', MAE_ARIMA)\n",
        "print('SES    --->', MAE_SES)"
      ],
      "execution_count": null,
      "outputs": [
        {
          "output_type": "stream",
          "text": [
            "ARIMA  ---> 5336.526670849053\n",
            "SES    ---> 5105.5\n"
          ],
          "name": "stdout"
        }
      ]
    },
    {
      "cell_type": "markdown",
      "metadata": {
        "id": "W9kEqQR_VRI7"
      },
      "source": [
        "SES model is better than the ARIMA model.\n",
        "Hence, we use it for further prediction."
      ]
    },
    {
      "cell_type": "code",
      "metadata": {
        "id": "Vdu5qewBVRI7",
        "outputId": "09150884-5c08-49fc-c737-9b07c43ffdf2"
      },
      "source": [
        "ses_model = SimpleExpSmoothing(data1).fit()\n",
        "results= ses_model.forecast(4)\n",
        "ses.summary()"
      ],
      "execution_count": null,
      "outputs": [
        {
          "output_type": "stream",
          "text": [
            "C:\\Users\\HP\\anaconda3\\lib\\site-packages\\statsmodels\\tsa\\base\\tsa_model.py:524: ValueWarning: No frequency information was provided, so inferred frequency QS-DEC will be used.\n",
            "  warnings.warn('No frequency information was'\n",
            "C:\\Users\\HP\\anaconda3\\lib\\site-packages\\statsmodels\\tsa\\holtwinters\\model.py:427: FutureWarning: After 0.13 initialization must be handled at model creation\n",
            "  warnings.warn(\n",
            "C:\\Users\\HP\\anaconda3\\lib\\site-packages\\statsmodels\\tsa\\holtwinters\\model.py:920: ConvergenceWarning: Optimization failed to converge. Check mle_retvals.\n",
            "  warnings.warn(\n"
          ],
          "name": "stderr"
        },
        {
          "output_type": "execute_result",
          "data": {
            "text/html": [
              "<table class=\"simpletable\">\n",
              "<caption>SimpleExpSmoothing Model Results</caption>\n",
              "<tr>\n",
              "  <th>Dep. Variable:</th>            <td>MA</td>         <th>  No. Observations:  </th>        <td>45</td>       \n",
              "</tr>\n",
              "<tr>\n",
              "  <th>Model:</th>            <td>SimpleExpSmoothing</td> <th>  SSE                </th>  <td>1111872794.530</td> \n",
              "</tr>\n",
              "<tr>\n",
              "  <th>Optimized:</th>               <td>True</td>        <th>  AIC                </th>      <td>770.019</td>    \n",
              "</tr>\n",
              "<tr>\n",
              "  <th>Trend:</th>                   <td>None</td>        <th>  BIC                </th>      <td>773.633</td>    \n",
              "</tr>\n",
              "<tr>\n",
              "  <th>Seasonal:</th>                <td>None</td>        <th>  AICC               </th>      <td>771.019</td>    \n",
              "</tr>\n",
              "<tr>\n",
              "  <th>Seasonal Periods:</th>        <td>None</td>        <th>  Date:              </th> <td>Thu, 29 Apr 2021</td>\n",
              "</tr>\n",
              "<tr>\n",
              "  <th>Box-Cox:</th>                 <td>False</td>       <th>  Time:              </th>     <td>10:29:25</td>    \n",
              "</tr>\n",
              "<tr>\n",
              "  <th>Box-Cox Coeff.:</th>          <td>None</td>        <th>                     </th>         <td> </td>       \n",
              "</tr>\n",
              "</table>\n",
              "<table class=\"simpletable\">\n",
              "<tr>\n",
              "         <td></td>                 <th>coeff</th>                <th>code</th>               <th>optimized</th>     \n",
              "</tr>\n",
              "<tr>\n",
              "  <th>smoothing_level</th> <td>           0.9950000</td> <td>               alpha</td> <td>                True</td>\n",
              "</tr>\n",
              "<tr>\n",
              "  <th>initial_level</th>   <td>          4.4185e+05</td> <td>                 l.0</td> <td>                True</td>\n",
              "</tr>\n",
              "</table>"
            ],
            "text/plain": [
              "<class 'statsmodels.iolib.summary.Summary'>\n",
              "\"\"\"\n",
              "                       SimpleExpSmoothing Model Results                       \n",
              "==============================================================================\n",
              "Dep. Variable:                     MA   No. Observations:                   45\n",
              "Model:             SimpleExpSmoothing   SSE                     1111872794.530\n",
              "Optimized:                       True   AIC                            770.019\n",
              "Trend:                           None   BIC                            773.633\n",
              "Seasonal:                        None   AICC                           771.019\n",
              "Seasonal Periods:                None   Date:                 Thu, 29 Apr 2021\n",
              "Box-Cox:                        False   Time:                         10:29:25\n",
              "Box-Cox Coeff.:                  None                                         \n",
              "==============================================================================\n",
              "                       coeff                 code              optimized      \n",
              "------------------------------------------------------------------------------\n",
              "smoothing_level            0.9950000                alpha                 True\n",
              "initial_level             4.4185e+05                  l.0                 True\n",
              "------------------------------------------------------------------------------\n",
              "\"\"\""
            ]
          },
          "metadata": {
            "tags": []
          },
          "execution_count": 75
        }
      ]
    },
    {
      "cell_type": "code",
      "metadata": {
        "id": "b2nqj70EVRI7"
      },
      "source": [
        "ses1_final = pd.DataFrame(results)\n",
        "ses1_final = ses1_final.reset_index()\n",
        "ses1_final = ses1_final.rename(columns={'index':'saledate', 0:'Predicted_MA'} )\n",
        "ses1_final['saledate'] = ses1_final['saledate'].astype(str)"
      ],
      "execution_count": null,
      "outputs": []
    },
    {
      "cell_type": "code",
      "metadata": {
        "id": "BxFgG96xVRI8",
        "outputId": "83fd2a83-aa73-4194-bf56-f5909cf9614b"
      },
      "source": [
        "ses1_final"
      ],
      "execution_count": null,
      "outputs": [
        {
          "output_type": "execute_result",
          "data": {
            "text/html": [
              "<div>\n",
              "<style scoped>\n",
              "    .dataframe tbody tr th:only-of-type {\n",
              "        vertical-align: middle;\n",
              "    }\n",
              "\n",
              "    .dataframe tbody tr th {\n",
              "        vertical-align: top;\n",
              "    }\n",
              "\n",
              "    .dataframe thead th {\n",
              "        text-align: right;\n",
              "    }\n",
              "</style>\n",
              "<table border=\"1\" class=\"dataframe\">\n",
              "  <thead>\n",
              "    <tr style=\"text-align: right;\">\n",
              "      <th></th>\n",
              "      <th>saledate</th>\n",
              "      <th>Predicted_MA</th>\n",
              "    </tr>\n",
              "  </thead>\n",
              "  <tbody>\n",
              "    <tr>\n",
              "      <th>0</th>\n",
              "      <td>2019-12-01</td>\n",
              "      <td>510659.130607</td>\n",
              "    </tr>\n",
              "    <tr>\n",
              "      <th>1</th>\n",
              "      <td>2020-03-01</td>\n",
              "      <td>510659.130607</td>\n",
              "    </tr>\n",
              "    <tr>\n",
              "      <th>2</th>\n",
              "      <td>2020-06-01</td>\n",
              "      <td>510659.130607</td>\n",
              "    </tr>\n",
              "    <tr>\n",
              "      <th>3</th>\n",
              "      <td>2020-09-01</td>\n",
              "      <td>510659.130607</td>\n",
              "    </tr>\n",
              "  </tbody>\n",
              "</table>\n",
              "</div>"
            ],
            "text/plain": [
              "     saledate   Predicted_MA\n",
              "0  2019-12-01  510659.130607\n",
              "1  2020-03-01  510659.130607\n",
              "2  2020-06-01  510659.130607\n",
              "3  2020-09-01  510659.130607"
            ]
          },
          "metadata": {
            "tags": []
          },
          "execution_count": 77
        }
      ]
    },
    {
      "cell_type": "code",
      "metadata": {
        "id": "JKw4CFfGVRI8",
        "outputId": "d18b3942-c9cb-4528-9ce9-7a1c63d3d81c"
      },
      "source": [
        "for i in range(len(ses1_final['saledate'])):\n",
        "    ses1_final['saledate'].loc[i] = datetime.strftime(datetime.strptime(ses1_final['saledate'].loc[i], '%Y-%m-%d'), '%m-%Y')\n",
        "ses1_final.set_index('saledate', inplace = True)"
      ],
      "execution_count": null,
      "outputs": [
        {
          "output_type": "stream",
          "text": [
            "C:\\Users\\HP\\anaconda3\\lib\\site-packages\\pandas\\core\\indexing.py:670: SettingWithCopyWarning: \n",
            "A value is trying to be set on a copy of a slice from a DataFrame\n",
            "\n",
            "See the caveats in the documentation: https://pandas.pydata.org/pandas-docs/stable/user_guide/indexing.html#returning-a-view-versus-a-copy\n",
            "  iloc._setitem_with_indexer(indexer, value)\n"
          ],
          "name": "stderr"
        }
      ]
    },
    {
      "cell_type": "code",
      "metadata": {
        "id": "B6m29lxpVRI9",
        "outputId": "03c9a8b0-610f-4219-8467-31c551c66310"
      },
      "source": [
        "plt.plot(train, label='Train')\n",
        "plt.plot(ses1_final, label='Forecast', color='black')\n",
        "plt.xticks(rotation=45)\n",
        "plt.legend(['Train',  'Forecast'])\n",
        "plt.show()"
      ],
      "execution_count": null,
      "outputs": [
        {
          "output_type": "display_data",
          "data": {
            "image/png": "[encoded data removed]",
            "text/plain": [
              "<Figure size 1080x432 with 1 Axes>"
            ]
          },
          "metadata": {
            "tags": [],
            "needs_background": "light"
          }
        }
      ]
    },
    {
      "cell_type": "code",
      "metadata": {
        "id": "vaxwZY2cVRI9"
      },
      "source": [
        ""
      ],
      "execution_count": null,
      "outputs": []
    }
  ]
}